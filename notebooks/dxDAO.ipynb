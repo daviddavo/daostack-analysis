{
 "cells": [
  {
   "cell_type": "code",
   "execution_count": 1,
   "id": "9e4c3e24-9527-45cb-a695-8a7024e1f20f",
   "metadata": {
    "execution": {
     "iopub.execute_input": "2024-03-18T10:07:37.353812Z",
     "iopub.status.busy": "2024-03-18T10:07:37.353688Z",
     "iopub.status.idle": "2024-03-18T10:07:37.711842Z",
     "shell.execute_reply": "2024-03-18T10:07:37.710355Z",
     "shell.execute_reply.started": "2024-03-18T10:07:37.353801Z"
    }
   },
   "outputs": [
    {
     "name": "stdout",
     "output_type": "stream",
     "text": [
      "Using DW in /home/davo/Documents/GRASIA/daostack-notebooks/datawarehouse from date 2023-05-01T00:00:00\n",
      "DW version 1.1.9\n",
      "dao-analyzer version: 1.2.6\n",
      "cache-scripts version: 1.1.9\n"
     ]
    }
   ],
   "source": [
    "%run common.ipy"
   ]
  },
  {
   "cell_type": "code",
   "execution_count": 2,
   "id": "a7f051ed-8f3a-41d0-841d-f0299e948dba",
   "metadata": {
    "execution": {
     "iopub.execute_input": "2024-03-18T10:07:43.991104Z",
     "iopub.status.busy": "2024-03-18T10:07:43.990632Z",
     "iopub.status.idle": "2024-03-18T10:07:44.833478Z",
     "shell.execute_reply": "2024-03-18T10:07:44.832992Z",
     "shell.execute_reply.started": "2024-03-18T10:07:43.991056Z"
    }
   },
   "outputs": [],
   "source": [
    "# Data tools\n",
    "import pandas as pd\n",
    "import numpy as np\n",
    "\n",
    "# Visualizationhttps://github.com/plotly/dash/pull/2473/files\n",
    "import seaborn as sns\n",
    "import plotly.express as px\n",
    "import matplotlib.pyplot as plt\n",
    "from sklearn.metrics import classification_report\n",
    "\n",
    "# Jupyter\n",
    "from IPython.display import HTML\n",
    "import ipywidgets as widgets\n",
    "\n",
    "# Local modules\n",
    "%load_ext autoreload\n",
    "%autoreload 1\n",
    "%aimport utils\n",
    "%aimport utils.plot\n",
    "%aimport utils.tables"
   ]
  },
  {
   "cell_type": "code",
   "execution_count": 38,
   "id": "dc028167-a0e4-4941-b339-682b1d6f276a",
   "metadata": {
    "execution": {
     "iopub.execute_input": "2024-03-18T10:17:40.243579Z",
     "iopub.status.busy": "2024-03-18T10:17:40.243127Z",
     "iopub.status.idle": "2024-03-18T10:17:40.278597Z",
     "shell.execute_reply": "2024-03-18T10:17:40.278210Z",
     "shell.execute_reply.started": "2024-03-18T10:17:40.243538Z"
    }
   },
   "outputs": [
    {
     "name": "stdout",
     "output_type": "stream",
     "text": [
      "0x519b70055af55a007110b4ff99b0ea33071c720a 0xe716ec63c5673b3a4732d22909b38d779fa47c3f\n"
     ]
    }
   ],
   "source": [
    "dfd = utils.get_df('dfd')\n",
    "dfp = utils.get_df('dfp').sort_values('createdAt')\n",
    "\n",
    "ID_DXDAO = dfd[dfd['name'] == 'dxDAO']['id'].iloc[0]\n",
    "ID_XDXDAO = dfd[dfd['name'] == 'xDXdao']['id'].iloc[0]\n",
    "print(ID_DXDAO, ID_XDXDAO)"
   ]
  },
  {
   "cell_type": "code",
   "execution_count": 39,
   "id": "47f5c803-ac9a-40c2-aeac-44c2ca673a69",
   "metadata": {
    "execution": {
     "iopub.execute_input": "2024-03-18T10:17:41.916176Z",
     "iopub.status.busy": "2024-03-18T10:17:41.915721Z",
     "iopub.status.idle": "2024-03-18T10:17:41.931885Z",
     "shell.execute_reply": "2024-03-18T10:17:41.931281Z",
     "shell.execute_reply.started": "2024-03-18T10:17:41.916137Z"
    }
   },
   "outputs": [
    {
     "data": {
      "text/plain": [
       "network  id                                               \n",
       "mainnet  0x3038b8940eacc02a5555f039fd648dcfbc7d91d700c6...                              This is a test proposal\n",
       "         0xae9a111f0089cf0b80ad77c38ea37bc8f77805011f54...    Add distributed computation tokens [RLC] and [...\n",
       "         0x8de194855379635110cd6defce61938e404e0bede47b...                     Add HoloToken [HOT] to whitelist\n",
       "         0xd0ca0fa2986182606eb54047a7724cbe0aac19d91979...         Remove the locking Eth for Reputation Scheme\n",
       "         0xb92d2df99a47244c07a9d7ef73530c273f1d65230dbf...                                 Give the power to me\n",
       "                                                                                    ...                        \n",
       "         0x2f701be3fbd3e7e706f1aac4d36839c18a56a52e45e5...          CowSwap Liquidity Order 1e98ff12 LUSD / DXD\n",
       "         0x9db177024f122afa9bafe4df77f0750172b0d6a7abeb...          CowSwap Liquidity Order e1397df1 WETH / DXD\n",
       "         0xe952937493c99ed9dc0ace38501d374059117d77af9d...                  Robert's DXD Redemption Balancer #1\n",
       "         0xad90760e30a7b9ebbceca714476e5e69c6817e1c1df9...    Update swapr.eth content hash to Swapr v1.0.0-...\n",
       "         0x0dc340bf6583557c718716d50d6fc8adbc6f73ab7414...                     Register Closure Multisig Scheme\n",
       "Name: title, Length: 918, dtype: string"
      ]
     },
     "execution_count": 39,
     "metadata": {},
     "output_type": "execute_result"
    }
   ],
   "source": [
    "dfp_dxdao = dfp[dfp['dao'] == ID_DXDAO]\n",
    "dfp_dxdao['title']"
   ]
  },
  {
   "cell_type": "code",
   "execution_count": 40,
   "id": "c65edc39-f341-4d5f-be9c-945c6ede0807",
   "metadata": {
    "execution": {
     "iopub.execute_input": "2024-03-18T10:17:43.930552Z",
     "iopub.status.busy": "2024-03-18T10:17:43.930101Z",
     "iopub.status.idle": "2024-03-18T10:17:43.949270Z",
     "shell.execute_reply": "2024-03-18T10:17:43.948741Z",
     "shell.execute_reply.started": "2024-03-18T10:17:43.930513Z"
    }
   },
   "outputs": [
    {
     "data": {
      "text/plain": [
       "network  id                                               \n",
       "xdai     0xdb3eb3a026586cddb60e39a48f1ffa6a9007d1b5b3d0...                                       Test spend DAI\n",
       "         0x4d12475f43f8a20340a7360e2c1864601b7969c178a9...    Community Competition for Omen Markets - Batch #1\n",
       "         0xea2e8aa2b4ccdbb56a0e67ff7e2b22f53caa0b6ee1d9...                         TEST: Adding a Token to Mesa\n",
       "         0x5ded5c6a9ccf9cb60df2611dfaff59f2a6a3e0bd3de4...                       TEST: Adding a Token to Mesa 2\n",
       "         0x9c10b17d5f75f51224e4f04191a53f2a461648145756...                                        Just testing!\n",
       "                                                                                    ...                        \n",
       "         0xd7821e985a323e68c45d776d7dd5f6f2e1082a714f88...          Deregister Funding and Voting Power Scheme \n",
       "         0xea7b51213418a82b29f03f81e0678452186870b1d6d2...           MMDHR Entity Maintenance Cont stipend 2023\n",
       "         0x904ebe6b2adf252f2726cb18bf5f32501bd61f8aa5a7...    ETH/DXD Liquidity - Deposit 6 WETH and 14.4 DX...\n",
       "         0x28600ae0d7e6a0ecbee0e1f15866e50bfe33013c8e9a...    ETH/DXD Liquidity - Deposit 9 WETH and 21.6 DX...\n",
       "         0x2595e6bff6eb185088b709bd1c9a7058919ca22caed6...                     Register Closure Multisig Scheme\n",
       "Name: title, Length: 1438, dtype: string"
      ]
     },
     "execution_count": 40,
     "metadata": {},
     "output_type": "execute_result"
    }
   ],
   "source": [
    "dfp_xdxdao = dfp[dfp['dao'] == ID_XDXDAO]\n",
    "dfp_xdxdao['title']"
   ]
  }
 ],
 "metadata": {
  "kernelspec": {
   "display_name": "Python 3 (ipykernel)",
   "language": "python",
   "name": "python3"
  },
  "language_info": {
   "codemirror_mode": {
    "name": "ipython",
    "version": 3
   },
   "file_extension": ".py",
   "mimetype": "text/x-python",
   "name": "python",
   "nbconvert_exporter": "python",
   "pygments_lexer": "ipython3",
   "version": "3.11.8"
  }
 },
 "nbformat": 4,
 "nbformat_minor": 5
}
