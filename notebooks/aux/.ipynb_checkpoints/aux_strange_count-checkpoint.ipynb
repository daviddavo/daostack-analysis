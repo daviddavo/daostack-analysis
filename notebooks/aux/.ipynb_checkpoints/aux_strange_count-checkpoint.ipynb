{
 "cells": [
  {
   "cell_type": "code",
   "execution_count": 1,
   "id": "e13668a0-05f9-4b0a-a149-ea059a11b21c",
   "metadata": {},
   "outputs": [
    {
     "name": "stdout",
     "output_type": "stream",
     "text": [
      "Using DW in /home/davo/Documents/GRASIA/daostack-notebooks/datawarehouse from date 2022-09-28\n",
      "dao-analyzer version: 1.2.3\n",
      "cache-scripts version: 1.1.4\n"
     ]
    }
   ],
   "source": [
    "%run common.ipy"
   ]
  },
  {
   "cell_type": "code",
   "execution_count": 3,
   "id": "0ec33015-a196-4804-93ff-dc4b88b629fc",
   "metadata": {},
   "outputs": [],
   "source": [
    "import pandas as pd\n",
    "import numpy as np\n",
    "\n",
    "import utils\n",
    "from dao_analyzer.web.apps.daostack.data_access.daos.metric import srcs as DAOSTACK\n",
    "from dao_analyzer.web.apps.common.data_access import pandas_utils as pd_utls"
   ]
  },
  {
   "cell_type": "code",
   "execution_count": 14,
   "id": "75565106-1d29-4fef-9dfe-ed20e6e573ec",
   "metadata": {},
   "outputs": [
    {
     "name": "stdout",
     "output_type": "stream",
     "text": [
      "/tmp/dbg01_0.csv  /tmp/dbg01_1.csv  /tmp/dbg01_2.csv  /tmp/dbg01_3.csv\n"
     ]
    },
    {
     "data": {
      "text/plain": [
       "<AxesSubplot:xlabel='createdAt'>"
      ]
     },
     "execution_count": 14,
     "metadata": {},
     "output_type": "execute_result"
    },
    {
     "data": {
      "image/png": "[encoded data removed]",
      "text/plain": [
       "<Figure size 432x288 with 1 Axes>"
      ]
     },
     "metadata": {
      "needs_background": "light"
     },
     "output_type": "display_data"
    }
   ],
   "source": [
    "!ls /tmp/dbg01_*.csv\n",
    "pd.read_csv('/tmp/dbg01_1.csv').set_index('createdAt')['count'].plot.bar()"
   ]
  },
  {
   "cell_type": "code",
   "execution_count": null,
   "id": "3bd45598-5392-4134-bc52-8dc2cf6cd4be",
   "metadata": {},
   "outputs": [],
   "source": []
  }
 ],
 "metadata": {
  "kernelspec": {
   "display_name": "Python 3 (ipykernel)",
   "language": "python",
   "name": "python3"
  },
  "language_info": {
   "codemirror_mode": {
    "name": "ipython",
    "version": 3
   },
   "file_extension": ".py",
   "mimetype": "text/x-python",
   "name": "python",
   "nbconvert_exporter": "python",
   "pygments_lexer": "ipython3",
   "version": "3.10.7"
  }
 },
 "nbformat": 4,
 "nbformat_minor": 5
}
