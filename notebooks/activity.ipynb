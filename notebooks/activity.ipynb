{
 "cells": [
  {
   "cell_type": "code",
   "execution_count": 1,
   "id": "ec5f403a-3dc6-4c72-9534-53925a2a5ad3",
   "metadata": {
    "execution": {
     "iopub.execute_input": "2023-06-01T09:55:57.836056Z",
     "iopub.status.busy": "2023-06-01T09:55:57.835583Z",
     "iopub.status.idle": "2023-06-01T09:55:58.212684Z",
     "shell.execute_reply": "2023-06-01T09:55:58.211277Z"
    },
    "papermill": {
     "duration": 0.384094,
     "end_time": "2023-06-01T09:55:58.215564",
     "exception": false,
     "start_time": "2023-06-01T09:55:57.831470",
     "status": "completed"
    },
    "tags": []
   },
   "outputs": [
    {
     "name": "stdout",
     "output_type": "stream",
     "text": [
      "Using DW in /home/davo/Documents/GRASIA/daostack-notebooks/datawarehouse from date 2023-05-01T00:00:00\r\n"
     ]
    },
    {
     "name": "stdout",
     "output_type": "stream",
     "text": [
      "DW version 1.1.9\r\n"
     ]
    },
    {
     "name": "stdout",
     "output_type": "stream",
     "text": [
      "dao-analyzer version: 1.2.6\n",
      "cache-scripts version: 1.1.9\n"
     ]
    }
   ],
   "source": [
    "%run common.ipy"
   ]
  },
  {
   "cell_type": "code",
   "execution_count": 2,
   "id": "70038689-ee7c-418b-aa19-141d07efffa0",
   "metadata": {
    "execution": {
     "iopub.execute_input": "2023-06-01T09:55:58.222906Z",
     "iopub.status.busy": "2023-06-01T09:55:58.222496Z",
     "iopub.status.idle": "2023-06-01T09:55:59.285016Z",
     "shell.execute_reply": "2023-06-01T09:55:59.284475Z"
    },
    "papermill": {
     "duration": 1.068389,
     "end_time": "2023-06-01T09:55:59.286264",
     "exception": false,
     "start_time": "2023-06-01T09:55:58.217875",
     "status": "completed"
    },
    "tags": []
   },
   "outputs": [],
   "source": [
    "# Data tools\n",
    "import pandas as pd\n",
    "import numpy as np\n",
    "\n",
    "# Visualization\n",
    "from tqdm import tqdm\n",
    "import seaborn as sns\n",
    "import plotly.express as px\n",
    "import matplotlib.pyplot as plt\n",
    "from sklearn.metrics import classification_report\n",
    "\n",
    "tqdm.pandas()\n",
    "\n",
    "# Jupyter\n",
    "import ipywidgets as widgets\n",
    "from IPython.display import Markdown as Md\n",
    "\n",
    "# Local modules\n",
    "%load_ext autoreload\n",
    "%autoreload 1\n",
    "%aimport utils"
   ]
  }
 ],
 "metadata": {
  "kernelspec": {
   "display_name": "Python 3 (ipykernel)",
   "language": "python",
   "name": "python3"
  },
  "language_info": {
   "codemirror_mode": {
    "name": "ipython",
    "version": 3
   },
   "file_extension": ".py",
   "mimetype": "text/x-python",
   "name": "python",
   "nbconvert_exporter": "python",
   "pygments_lexer": "ipython3",
   "version": "3.11.3"
  },
  "papermill": {
   "default_parameters": {},
   "duration": 2.60057,
   "end_time": "2023-06-01T09:55:59.705703",
   "environment_variables": {},
   "exception": null,
   "input_path": "activity.ipynb",
   "output_path": "activity.ipynb",
   "parameters": {},
   "start_time": "2023-06-01T09:55:57.105133",
   "version": "2.4.0"
  }
 },
 "nbformat": 4,
 "nbformat_minor": 5
}
