{
 "cells": [
  {
   "cell_type": "code",
   "execution_count": 1,
   "id": "ec5f403a-3dc6-4c72-9534-53925a2a5ad3",
   "metadata": {},
   "outputs": [
    {
     "name": "stdout",
     "output_type": "stream",
     "text": [
      "Using DW in /home/davo/Documents/GRASIA/daostack-notebooks/datawarehouse from date 2023-02-18\n",
      "DW version 1.1.8\n",
      "dao-analyzer version: 1.2.4.dev11\n",
      "cache-scripts version: 1.1.8\n"
     ]
    }
   ],
   "source": [
    "%run common.ipy"
   ]
  },
  {
   "cell_type": "code",
   "execution_count": 2,
   "id": "70038689-ee7c-418b-aa19-141d07efffa0",
   "metadata": {},
   "outputs": [],
   "source": [
    "# Data tools\n",
    "import pandas as pd\n",
    "import numpy as np\n",
    "\n",
    "# Visualization\n",
    "from tqdm import tqdm\n",
    "import seaborn as sns\n",
    "import plotly.express as px\n",
    "import matplotlib.pyplot as plt\n",
    "from sklearn.metrics import classification_report\n",
    "\n",
    "tqdm.pandas()\n",
    "\n",
    "# Jupyter\n",
    "import ipywidgets as widgets\n",
    "from IPython.display import Markdown as Md\n",
    "\n",
    "# Local modules\n",
    "%load_ext autoreload\n",
    "%autoreload 1\n",
    "%aimport utils"
   ]
  }
 ],
 "metadata": {
  "kernelspec": {
   "display_name": "Python 3 (ipykernel)",
   "language": "python",
   "name": "python3"
  },
  "language_info": {
   "codemirror_mode": {
    "name": "ipython",
    "version": 3
   },
   "file_extension": ".py",
   "mimetype": "text/x-python",
   "name": "python",
   "nbconvert_exporter": "python",
   "pygments_lexer": "ipython3",
   "version": "3.10.9"
  }
 },
 "nbformat": 4,
 "nbformat_minor": 5
}
