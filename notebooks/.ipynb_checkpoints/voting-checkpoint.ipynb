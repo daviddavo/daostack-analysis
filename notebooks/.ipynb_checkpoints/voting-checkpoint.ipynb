{
 "cells": [
  {
   "cell_type": "code",
   "execution_count": 1,
   "id": "cd0309ea-df4b-4816-94c5-fc0768533425",
   "metadata": {},
   "outputs": [
    {
     "name": "stdout",
     "output_type": "stream",
     "text": [
      "Using DW in /home/davo/Documents/GRASIA/daostack-notebooks/datawarehouse from date 2023-02-18\n",
      "DW version 1.1.8\n",
      "dao-analyzer version: 1.2.4.dev11\n",
      "cache-scripts version: 1.1.8\n"
     ]
    }
   ],
   "source": [
    "%run common.ipy"
   ]
  },
  {
   "cell_type": "code",
   "execution_count": 2,
   "id": "3c1c01d4-1544-42b1-bcb7-27f8e7588b82",
   "metadata": {},
   "outputs": [],
   "source": [
    "# Data tools\n",
    "import pandas as pd\n",
    "import numpy as np\n",
    "\n",
    "# Visualization\n",
    "from tqdm import tqdm\n",
    "import seaborn as sns\n",
    "import plotly.express as px\n",
    "import matplotlib.pyplot as plt\n",
    "from sklearn.metrics import classification_report\n",
    "\n",
    "tqdm.pandas()\n",
    "\n",
    "# Jupyter\n",
    "import ipywidgets as widgets\n",
    "from IPython.display import Markdown as Md\n",
    "\n",
    "# Local modules\n",
    "%load_ext autoreload\n",
    "%autoreload 1\n",
    "%aimport utils\n",
    "%aimport utils.plot"
   ]
  },
  {
   "cell_type": "markdown",
   "id": "9e06fae3-3883-4390-8c34-051e145d8397",
   "metadata": {},
   "source": [
    "# Resumen"
   ]
  },
  {
   "cell_type": "markdown",
   "id": "bdd6ffe0-ce30-4343-b7c6-900a9b8b38f1",
   "metadata": {},
   "source": [
    "## ¿Cuantos votos se han emitido?"
   ]
  },
  {
   "cell_type": "code",
   "execution_count": 3,
   "id": "8b3f83b3-4cb3-4565-92c8-1dd14512e298",
   "metadata": {},
   "outputs": [
    {
     "name": "stdout",
     "output_type": "stream",
     "text": [
      "xdai       12234\n",
      "mainnet     7528\n",
      "Name: network, dtype: int64\n",
      "Total: 19762\n"
     ]
    },
    {
     "data": {
      "text/markdown": [
       "Se han emitido 19762 votos, 7528 (38.09%) de ellos en mainnet, y 12234 (61.91%) en xdai"
      ],
      "text/plain": [
       "<IPython.core.display.Markdown object>"
      ]
     },
     "execution_count": 3,
     "metadata": {},
     "output_type": "execute_result"
    }
   ],
   "source": [
    "dfv = pd.read_feather(DAOSTACK.VOTES)\n",
    "print(gbn := dfv['network'].value_counts())\n",
    "print(\"Total:\", total := len(dfv))\n",
    "mainnet = gbn['mainnet']\n",
    "xdai = gbn['xdai']\n",
    "\n",
    "def pct(x, total):\n",
    "    return f'{x/total*100:.2f}%'\n",
    "\n",
    "Md(f\"Se han emitido {total} votos, {mainnet} ({pct(mainnet,total)}) de ellos en mainnet, y {xdai} ({pct(xdai,total)}) en xdai\")"
   ]
  },
  {
   "cell_type": "markdown",
   "id": "339681a1-90be-48fe-8c14-2120c57bfbec",
   "metadata": {},
   "source": [
    "## ¿Cuantas personas han votado?"
   ]
  },
  {
   "cell_type": "code",
   "execution_count": 4,
   "id": "46bae040-8f38-4ac5-a0c0-9f2857734638",
   "metadata": {},
   "outputs": [
    {
     "name": "stdout",
     "output_type": "stream",
     "text": [
      "Total: 787\n",
      "network\n",
      "mainnet    446\n",
      "xdai       396\n",
      "Name: voter, dtype: int64\n"
     ]
    },
    {
     "data": {
      "text/markdown": [
       "787 usuarios han votado, 446 (56.67%) de ellos en mainnet y 396 (50.32%) en xdai. Nótese que hay 55 (6.99%) carteras que han votado en ambas."
      ],
      "text/plain": [
       "<IPython.core.display.Markdown object>"
      ]
     },
     "execution_count": 4,
     "metadata": {},
     "output_type": "execute_result"
    }
   ],
   "source": [
    "print(\"Total:\", total:=dfv['voter'].nunique())\n",
    "print(gbn:=dfv.groupby('network')['voter'].nunique())\n",
    "\n",
    "mainnet = gbn['mainnet']\n",
    "xdai = gbn['xdai']\n",
    "both = mainnet + xdai - total\n",
    "\n",
    "Md(f\"{total} usuarios han votado, {mainnet} ({pct(mainnet,total)}) de ellos en mainnet y {xdai} ({pct(xdai,total)}) en xdai. Nótese que hay {both} ({pct(both,total)}) carteras que han votado en ambas.\")"
   ]
  },
  {
   "cell_type": "markdown",
   "id": "a64e52ad-4759-4ff2-bb42-35be22962b8d",
   "metadata": {},
   "source": [
    "## Número medio de usuarios que votan en las propuestas"
   ]
  },
  {
   "cell_type": "code",
   "execution_count": 5,
   "id": "1107e4ed-ad7f-4305-8b3c-8b5aa1ca10d7",
   "metadata": {},
   "outputs": [],
   "source": [
    "dfp = utils.get_df('dfp').dropna(subset=['votesForPct'])\n",
    "# dfp"
   ]
  },
  {
   "cell_type": "code",
   "execution_count": 6,
   "id": "d29328ec-ef3e-4c43-834b-765e196175ac",
   "metadata": {},
   "outputs": [
    {
     "data": {
      "text/plain": [
       "<AxesSubplot: xlabel='nvoters', ylabel='Density'>"
      ]
     },
     "execution_count": 6,
     "metadata": {},
     "output_type": "execute_result"
    },
    {
     "data": {
      "image/png": "[encoded data removed]",
      "text/plain": [
       "<Figure size 640x480 with 1 Axes>"
      ]
     },
     "metadata": {},
     "output_type": "display_data"
    }
   ],
   "source": [
    "sns.histplot(dfp, x='nvoters', hue='network', stat='density')"
   ]
  },
  {
   "cell_type": "markdown",
   "id": "be5850a1-40a0-4345-8d92-cef040e10ecf",
   "metadata": {},
   "source": [
    "## Voting power movilizado por red\n",
    "\n",
    "Movilizado = no abstensión"
   ]
  },
  {
   "cell_type": "code",
   "execution_count": 7,
   "id": "3b8970fc-b703-477e-a17c-ad644b3dd4da",
   "metadata": {},
   "outputs": [],
   "source": [
    "dfp['movilizadoPct'] = dfp['votesForPct'] + dfp['votesAgainstPct']\n",
    "assert ((0 <= dfp['movilizadoPct']) & (dfp['movilizadoPct'] <= 1.0)).all(), \"All percentages should be smaller than 100%\""
   ]
  },
  {
   "cell_type": "code",
   "execution_count": 8,
   "id": "8c664742-f7a5-4cf6-bc7a-bd67fe4bec9a",
   "metadata": {},
   "outputs": [
    {
     "name": "stdout",
     "output_type": "stream",
     "text": [
      "saving to ../logseq/assets/nb_figures/voting/movilizadoPct.png\n",
      "Use ![](assets/nb_figures/voting/movilizadoPct.png) to embed it in logseq\n"
     ]
    },
    {
     "data": {
      "text/plain": [
       "<AxesSubplot: xlabel='movilizadoPct', ylabel='Density'>"
      ]
     },
     "execution_count": 8,
     "metadata": {},
     "output_type": "execute_result"
    },
    {
     "data": {
      "image/png": "[encoded data removed]",
      "text/plain": [
       "<Figure size 640x480 with 1 Axes>"
      ]
     },
     "metadata": {},
     "output_type": "display_data"
    }
   ],
   "source": [
    "utils.plot.save_fig(sns.histplot(dfp, x='movilizadoPct', hue='network', stat='density'), \"voting/movilizadoPct.png\")"
   ]
  },
  {
   "cell_type": "markdown",
   "id": "0c7b871d-08ea-4e93-8305-2d2f1536a69c",
   "metadata": {},
   "source": [
    "### Tabla de voting power movilizado\n",
    "\n",
    "Debería quedar algo tal que así:\n",
    "\n",
    "|    | mainnet | xdai |\n",
    "|---|---|---|\n",
    "| boosted | x% | y% |\n",
    "| non-boosted | x'% | y'% |"
   ]
  },
  {
   "cell_type": "code",
   "execution_count": 9,
   "id": "746377d2-c951-4d64-8466-1daae00b7b6c",
   "metadata": {},
   "outputs": [
    {
     "name": "stdout",
     "output_type": "stream",
     "text": [
      "saving to ../logseq/assets/nb_tables/voting/voting_power_by_boosted.png\n",
      "/usr/bin/chromium\n",
      "Use ![Voting power movilizado (boosted/non-boosted y network)](assets/nb_tables/voting/voting_power_by_boosted.png) to embed it in logseq\n"
     ]
    },
    {
     "data": {
      "text/html": [
       "<div>\n",
       "<style scoped>\n",
       "    .dataframe tbody tr th:only-of-type {\n",
       "        vertical-align: middle;\n",
       "    }\n",
       "\n",
       "    .dataframe tbody tr th {\n",
       "        vertical-align: top;\n",
       "    }\n",
       "\n",
       "    .dataframe thead th {\n",
       "        text-align: right;\n",
       "    }\n",
       "</style>\n",
       "<table border=\"1\" class=\"dataframe\">\n",
       "  <thead>\n",
       "    <tr style=\"text-align: right;\">\n",
       "      <th>network</th>\n",
       "      <th>mainnet</th>\n",
       "      <th>xdai</th>\n",
       "    </tr>\n",
       "    <tr>\n",
       "      <th>boosted?</th>\n",
       "      <th></th>\n",
       "      <th></th>\n",
       "    </tr>\n",
       "  </thead>\n",
       "  <tbody>\n",
       "    <tr>\n",
       "      <th>True</th>\n",
       "      <td>9.76%</td>\n",
       "      <td>8.39%</td>\n",
       "    </tr>\n",
       "    <tr>\n",
       "      <th>False</th>\n",
       "      <td>32.17%</td>\n",
       "      <td>47.27%</td>\n",
       "    </tr>\n",
       "  </tbody>\n",
       "</table>\n",
       "</div>"
      ],
      "text/plain": [
       "network  mainnet    xdai\n",
       "boosted?                \n",
       "True       9.76%   8.39%\n",
       "False     32.17%  47.27%"
      ]
     },
     "execution_count": 9,
     "metadata": {},
     "output_type": "execute_result"
    }
   ],
   "source": [
    "dfp['boosted?'] = ~dfp.boostedAt.isna()\n",
    "\n",
    "_table = dfp.groupby(['network', 'boosted?'])['movilizadoPct'].mean().unstack(level=0).applymap(lambda x: f'{x*100:.2f}%').sort_index(ascending=False)\n",
    "utils.tables.save_table_image(_table, 'voting/voting_power_by_boosted.png', 'Voting power movilizado (boosted/non-boosted y network)')"
   ]
  },
  {
   "cell_type": "markdown",
   "id": "c0ec9475-79b2-4183-9d7e-1a1cf578f8d8",
   "metadata": {},
   "source": [
    "### Tabla de voting power movilizado según aprobadas y no"
   ]
  },
  {
   "cell_type": "code",
   "execution_count": 10,
   "id": "6116ce7c-bd73-45ba-b50c-afabdb094838",
   "metadata": {},
   "outputs": [
    {
     "data": {
      "text/plain": [
       "Index(['proposer', 'stage', 'createdAt', 'preBoostedAt', 'boostedAt',\n",
       "       'quietEndingPeriodBeganAt', 'closingAt', 'preBoostedClosingAt',\n",
       "       'executedAt', 'totalRepWhenExecuted', 'totalRepWhenCreated',\n",
       "       'executionState', 'expiresInQueueAt', 'votesFor', 'votesAgainst',\n",
       "       'winningOutcome', 'stakesFor', 'stakesAgainst',\n",
       "       'queuedVoteRequiredPercentage', 'queuedVotePeriodLimit',\n",
       "       'boostedVotePeriodLimit', 'thresholdConst', 'minimumDaoBounty',\n",
       "       'daoBountyConst', 'dao', 'competitionId', 'name', 'originalName',\n",
       "       'votesForPct', 'votesAgainstPct', 'executedAtMonth', 'createdAtMonth',\n",
       "       'daoRegister', 'nvoters', 'daostake', 'confidence', 'movilizadoPct',\n",
       "       'boosted?'],\n",
       "      dtype='object')"
      ]
     },
     "execution_count": 10,
     "metadata": {},
     "output_type": "execute_result"
    }
   ],
   "source": [
    "dfp.columns"
   ]
  },
  {
   "cell_type": "code",
   "execution_count": 11,
   "id": "47d19f2c-c771-48d7-80be-c057d71ef7f8",
   "metadata": {},
   "outputs": [
    {
     "name": "stdout",
     "output_type": "stream",
     "text": [
      "saving to ../logseq/assets/nb_tables/voting/voting_power_by_boosted_approved.png\n",
      "/usr/bin/chromium\n",
      "Use ![Voting power movilizado (boosted? y approved? vs. network)](assets/nb_tables/voting/voting_power_by_boosted_approved.png) to embed it in logseq\n"
     ]
    },
    {
     "data": {
      "text/html": [
       "<div>\n",
       "<style scoped>\n",
       "    .dataframe tbody tr th:only-of-type {\n",
       "        vertical-align: middle;\n",
       "    }\n",
       "\n",
       "    .dataframe tbody tr th {\n",
       "        vertical-align: top;\n",
       "    }\n",
       "\n",
       "    .dataframe thead th {\n",
       "        text-align: right;\n",
       "    }\n",
       "</style>\n",
       "<table border=\"1\" class=\"dataframe\">\n",
       "  <thead>\n",
       "    <tr style=\"text-align: right;\">\n",
       "      <th></th>\n",
       "      <th>network</th>\n",
       "      <th>mainnet</th>\n",
       "      <th>xdai</th>\n",
       "    </tr>\n",
       "    <tr>\n",
       "      <th>boosted?</th>\n",
       "      <th>approved?</th>\n",
       "      <th></th>\n",
       "      <th></th>\n",
       "    </tr>\n",
       "  </thead>\n",
       "  <tbody>\n",
       "    <tr>\n",
       "      <th rowspan=\"2\" valign=\"top\">True</th>\n",
       "      <th>True</th>\n",
       "      <td>9.75%</td>\n",
       "      <td>8.39%</td>\n",
       "    </tr>\n",
       "    <tr>\n",
       "      <th>False</th>\n",
       "      <td>10.35%</td>\n",
       "      <td>8.08%</td>\n",
       "    </tr>\n",
       "    <tr>\n",
       "      <th rowspan=\"2\" valign=\"top\">False</th>\n",
       "      <th>True</th>\n",
       "      <td>60.58%</td>\n",
       "      <td>82.79%</td>\n",
       "    </tr>\n",
       "    <tr>\n",
       "      <th>False</th>\n",
       "      <td>7.01%</td>\n",
       "      <td>10.09%</td>\n",
       "    </tr>\n",
       "  </tbody>\n",
       "</table>\n",
       "</div>"
      ],
      "text/plain": [
       "network            mainnet    xdai\n",
       "boosted? approved?                \n",
       "True     True        9.75%   8.39%\n",
       "         False      10.35%   8.08%\n",
       "False    True       60.58%  82.79%\n",
       "         False       7.01%  10.09%"
      ]
     },
     "execution_count": 11,
     "metadata": {},
     "output_type": "execute_result"
    }
   ],
   "source": [
    "title = \"Voting power movilizado por red según boosteadas y aprobadas o no\"\n",
    "dfp['approved?'] = dfp['winningOutcome'] == 'Pass'\n",
    "\n",
    "_table = dfp.groupby(['network', 'boosted?', 'approved?'])['movilizadoPct'].mean().unstack(level=0).applymap(lambda x:f'{x*100:.2f}%').sort_index(ascending=False)\n",
    "utils.tables.save_table_image(_table, 'voting/voting_power_by_boosted_approved.png', 'Voting power movilizado (boosted? y approved? vs. network)')"
   ]
  },
  {
   "cell_type": "code",
   "execution_count": 12,
   "id": "822e3328-727b-48d6-9989-dbd4c5e20b60",
   "metadata": {},
   "outputs": [
    {
     "name": "stdout",
     "output_type": "stream",
     "text": [
      "saving to ../logseq/assets/nb_tables/voting/voting_power_boosted_approved_cnt.png\n",
      "/usr/bin/chromium\n",
      "Use ![Número de casos de apoyo del voting power movilizado](assets/nb_tables/voting/voting_power_boosted_approved_cnt.png) to embed it in logseq\n"
     ]
    },
    {
     "data": {
      "text/html": [
       "<div>\n",
       "<style scoped>\n",
       "    .dataframe tbody tr th:only-of-type {\n",
       "        vertical-align: middle;\n",
       "    }\n",
       "\n",
       "    .dataframe tbody tr th {\n",
       "        vertical-align: top;\n",
       "    }\n",
       "\n",
       "    .dataframe thead th {\n",
       "        text-align: right;\n",
       "    }\n",
       "</style>\n",
       "<table border=\"1\" class=\"dataframe\">\n",
       "  <thead>\n",
       "    <tr style=\"text-align: right;\">\n",
       "      <th></th>\n",
       "      <th>network</th>\n",
       "      <th>mainnet</th>\n",
       "      <th>xdai</th>\n",
       "    </tr>\n",
       "    <tr>\n",
       "      <th>boosted?</th>\n",
       "      <th>approved?</th>\n",
       "      <th></th>\n",
       "      <th></th>\n",
       "    </tr>\n",
       "  </thead>\n",
       "  <tbody>\n",
       "    <tr>\n",
       "      <th rowspan=\"2\" valign=\"top\">True</th>\n",
       "      <th>True</th>\n",
       "      <td>1470</td>\n",
       "      <td>1318</td>\n",
       "    </tr>\n",
       "    <tr>\n",
       "      <th>False</th>\n",
       "      <td>41</td>\n",
       "      <td>19</td>\n",
       "    </tr>\n",
       "    <tr>\n",
       "      <th rowspan=\"2\" valign=\"top\">False</th>\n",
       "      <th>True</th>\n",
       "      <td>395</td>\n",
       "      <td>134</td>\n",
       "    </tr>\n",
       "    <tr>\n",
       "      <th>False</th>\n",
       "      <td>446</td>\n",
       "      <td>128</td>\n",
       "    </tr>\n",
       "  </tbody>\n",
       "</table>\n",
       "</div>"
      ],
      "text/plain": [
       "network             mainnet  xdai\n",
       "boosted? approved?               \n",
       "True     True          1470  1318\n",
       "         False           41    19\n",
       "False    True           395   134\n",
       "         False          446   128"
      ]
     },
     "execution_count": 12,
     "metadata": {},
     "output_type": "execute_result"
    }
   ],
   "source": [
    "_table = dfp.groupby(['network', 'boosted?', 'approved?'])['movilizadoPct'].count().unstack(level=0).sort_index(ascending=False)\n",
    "utils.tables.save_table_image(_table, 'voting/voting_power_boosted_approved_cnt.png', 'Número de casos de apoyo del voting power movilizado')"
   ]
  },
  {
   "cell_type": "markdown",
   "id": "40ca637e-12b7-4c0e-a834-ba68e116732a",
   "metadata": {},
   "source": [
    "### Tabla de voting power medio movilizado por tipo de propuesta y red\n",
    "\n",
    "Código copiado de [proposals.ipynb](./proposals.ipynb)"
   ]
  },
  {
   "cell_type": "code",
   "execution_count": 15,
   "id": "3fe46e1e-a322-42a6-8a37-595572e57a80",
   "metadata": {},
   "outputs": [
    {
     "data": {
      "text/plain": [
       "Index(['network', 'id', 'proposer', 'stage', 'createdAt', 'preBoostedAt',\n",
       "       'boostedAt', 'quietEndingPeriodBeganAt', 'closingAt',\n",
       "       'preBoostedClosingAt', 'executedAt', 'totalRepWhenExecuted',\n",
       "       'totalRepWhenCreated', 'executionState', 'expiresInQueueAt', 'votesFor',\n",
       "       'votesAgainst', 'winningOutcome', 'stakesFor', 'stakesAgainst',\n",
       "       'queuedVoteRequiredPercentage', 'queuedVotePeriodLimit',\n",
       "       'boostedVotePeriodLimit', 'thresholdConst', 'minimumDaoBounty',\n",
       "       'daoBountyConst', 'dao', 'competitionId', 'name', 'originalName',\n",
       "       'votesForPct', 'votesAgainstPct', 'executedAtMonth', 'createdAtMonth',\n",
       "       'daoRegister', 'nvoters', 'daostake', 'confidence', 'stakes', 'boosted',\n",
       "       'approved'],\n",
       "      dtype='object')"
      ]
     },
     "execution_count": 15,
     "metadata": {},
     "output_type": "execute_result"
    }
   ],
   "source": [
    "dfpr.columns"
   ]
  },
  {
   "cell_type": "code",
   "execution_count": 23,
   "id": "e7eade70-fefc-40f5-9d13-980f8632abf4",
   "metadata": {},
   "outputs": [
    {
     "data": {
      "text/html": [
       "<div>\n",
       "<style scoped>\n",
       "    .dataframe tbody tr th:only-of-type {\n",
       "        vertical-align: middle;\n",
       "    }\n",
       "\n",
       "    .dataframe tbody tr th {\n",
       "        vertical-align: top;\n",
       "    }\n",
       "\n",
       "    .dataframe thead th {\n",
       "        text-align: right;\n",
       "    }\n",
       "</style>\n",
       "<table border=\"1\" class=\"dataframe\">\n",
       "  <thead>\n",
       "    <tr style=\"text-align: right;\">\n",
       "      <th></th>\n",
       "      <th>network</th>\n",
       "      <th>id</th>\n",
       "      <th>proposer</th>\n",
       "      <th>stage</th>\n",
       "      <th>createdAt</th>\n",
       "      <th>preBoostedAt</th>\n",
       "      <th>boostedAt</th>\n",
       "      <th>quietEndingPeriodBeganAt</th>\n",
       "      <th>closingAt</th>\n",
       "      <th>preBoostedClosingAt</th>\n",
       "      <th>...</th>\n",
       "      <th>executedAtMonth</th>\n",
       "      <th>createdAtMonth</th>\n",
       "      <th>daoRegister</th>\n",
       "      <th>nvoters</th>\n",
       "      <th>daostake</th>\n",
       "      <th>confidence</th>\n",
       "      <th>stakes</th>\n",
       "      <th>boosted</th>\n",
       "      <th>approved</th>\n",
       "      <th>votesPct</th>\n",
       "    </tr>\n",
       "  </thead>\n",
       "  <tbody>\n",
       "  </tbody>\n",
       "</table>\n",
       "<p>0 rows × 42 columns</p>\n",
       "</div>"
      ],
      "text/plain": [
       "Empty DataFrame\n",
       "Columns: [network, id, proposer, stage, createdAt, preBoostedAt, boostedAt, quietEndingPeriodBeganAt, closingAt, preBoostedClosingAt, executedAt, totalRepWhenExecuted, totalRepWhenCreated, executionState, expiresInQueueAt, votesFor, votesAgainst, winningOutcome, stakesFor, stakesAgainst, queuedVoteRequiredPercentage, queuedVotePeriodLimit, boostedVotePeriodLimit, thresholdConst, minimumDaoBounty, daoBountyConst, dao, competitionId, name, originalName, votesForPct, votesAgainstPct, executedAtMonth, createdAtMonth, daoRegister, nvoters, daostake, confidence, stakes, boosted, approved, votesPct]\n",
       "Index: []\n",
       "\n",
       "[0 rows x 42 columns]"
      ]
     },
     "execution_count": 23,
     "metadata": {},
     "output_type": "execute_result"
    }
   ],
   "source": [
    "dfpr[dfpr['votesPct'] > 1]"
   ]
  },
  {
   "cell_type": "code",
   "execution_count": 28,
   "id": "0a1e3cf1-b69f-45bf-924a-7d2b01e6d99f",
   "metadata": {},
   "outputs": [
    {
     "name": "stdout",
     "output_type": "stream",
     "text": [
      "Index(['network', 'id', 'proposer', 'stage', 'createdAt', 'preBoostedAt',\n",
      "       'boostedAt', 'quietEndingPeriodBeganAt', 'closingAt',\n",
      "       'preBoostedClosingAt', 'executedAt', 'totalRepWhenExecuted',\n",
      "       'totalRepWhenCreated', 'executionState', 'expiresInQueueAt', 'votesFor',\n",
      "       'votesAgainst', 'winningOutcome', 'stakesFor', 'stakesAgainst',\n",
      "       'queuedVoteRequiredPercentage', 'queuedVotePeriodLimit',\n",
      "       'boostedVotePeriodLimit', 'thresholdConst', 'minimumDaoBounty',\n",
      "       'daoBountyConst', 'dao', 'competitionId', 'name', 'originalName',\n",
      "       'votesForPct', 'votesAgainstPct', 'executedAtMonth', 'createdAtMonth',\n",
      "       'daoRegister', 'nvoters', 'daostake', 'confidence', 'stakes', 'boosted',\n",
      "       'approved', 'votesPct'],\n",
      "      dtype='object')\n"
     ]
    },
    {
     "data": {
      "text/plain": [
       "array([['\\\\textbf{9.7\\\\%}\\n 9.6\\\\%\\n0.1\\\\%',\n",
       "        '\\\\textbf{60.7\\\\%}\\n 60.7\\\\%\\n0.0\\\\%'],\n",
       "       ['\\\\textbf{10.9\\\\%}\\n 3.1\\\\%\\n7.8\\\\%',\n",
       "        '\\\\textbf{7.3\\\\%}\\n 2.3\\\\%\\n5.0\\\\%']], dtype='<U29')"
      ]
     },
     "metadata": {},
     "output_type": "display_data"
    },
    {
     "data": {
      "text/plain": [
       "array([['\\\\textbf{8.4\\\\%}\\n 8.3\\\\%\\n0.0\\\\%',\n",
       "        '\\\\textbf{60.8\\\\%}\\n 60.8\\\\%\\n0.0\\\\%'],\n",
       "       ['\\\\textbf{9.0\\\\%}\\n 2.2\\\\%\\n6.8\\\\%',\n",
       "        '\\\\textbf{5.9\\\\%}\\n 1.6\\\\%\\n4.3\\\\%']], dtype='<U29')"
      ]
     },
     "metadata": {},
     "output_type": "display_data"
    },
    {
     "name": "stdout",
     "output_type": "stream",
     "text": [
      "saving to ../logseq/assets/nb_figures/proposals/average_staking.png\n",
      "Use ![Cantidad media de Voting Power ejercido en cada propuesta por red y tipo](assets/nb_figures/proposals/average_staking.png) to embed it in logseq\n"
     ]
    },
    {
     "data": {
      "image/png": "[encoded data removed]",
      "text/plain": [
       "<Figure size 1000x400 with 4 Axes>"
      ]
     },
     "execution_count": 28,
     "metadata": {},
     "output_type": "execute_result"
    }
   ],
   "source": [
    "dfpr = utils.get_df('dfpr')\n",
    "\n",
    "dfpr['votesPct'] = dfpr['votesForPct'] + dfpr['votesAgainstPct']\n",
    "assert (~(dfpr['votesPct'] > 1)).any(), \"Votes percentage should be bellow 100%\"\n",
    "\n",
    "print(dfpr.columns)\n",
    "\n",
    "fig, axs = plt.subplots(ncols=2, nrows=1, figsize=(10,4))\n",
    "fig.suptitle(\"Cantidad media de Voting Power ejercido en cada propuesta por red y tipo\")\n",
    "# fig.supxlabel(\"Red\")\n",
    "\n",
    "for i, n in enumerate(['mainnet', 'xdai']):    \n",
    "    dfprn = dfpr[dfpr['network'] == n]\n",
    "    \n",
    "    ct = pd.crosstab(dfprn['approved'], dfprn['boosted'], values=dfprn['votesPct'], aggfunc='mean').sort_index(ascending=False).sort_index(axis=1, ascending=False)\n",
    "    ctup = pd.crosstab(dfprn['approved'], dfprn['boosted'], values=dfprn['votesForPct'], aggfunc='mean').sort_index(ascending=False).sort_index(axis=1, ascending=False).to_numpy()\n",
    "    ctdown = pd.crosstab(dfprn['approved'], dfprn['boosted'], values=dfprn['votesAgainstPct'], aggfunc='mean').sort_index(ascending=False).sort_index(axis=1, ascending=False).to_numpy()\n",
    "    # Hay que convertirlo a float porque es un Float\n",
    "    ct = ct.astype(float)\n",
    "    \n",
    "    vlabel = np.vectorize(lambda up, down: f'\\\\textbf{{{(up+down)*100:.1f}\\%}}\\n {up*100:.1f}\\%\\n{down*100:.1f}\\%')\n",
    "        \n",
    "    display(vlabel(ctup, ctdown))\n",
    "    # total = ct.sum().sum()\n",
    "    \n",
    "    sns.heatmap(ct, \n",
    "                annot=vlabel(ctup, ctdown), fmt='', \n",
    "                ax=axs[i], \n",
    "                square=True, \n",
    "                cmap=utils.plot.default_heatmap_cmap, \n",
    "                annot_kws={'usetex': True}\n",
    "               )\n",
    "    axs[i].set_title(n)\n",
    "    \n",
    "    if i != 0:\n",
    "        axs[i].set_ylabel(\"\")\n",
    "        \n",
    "utils.plot.save_fig(fig, 'proposals/average_voting_power.png')"
   ]
  },
  {
   "cell_type": "markdown",
   "id": "8415ec09-32b4-427d-b83d-2871dc67674a",
   "metadata": {},
   "source": [
    "## % usuarios movilizado por red"
   ]
  },
  {
   "cell_type": "code",
   "execution_count": null,
   "id": "f89e5fd2-5ab7-4996-95be-b30c5f9d3ead",
   "metadata": {},
   "outputs": [],
   "source": [
    "dfd = utils.get_df('dfd')"
   ]
  },
  {
   "cell_type": "code",
   "execution_count": null,
   "id": "635cd020-ec60-46a2-b42f-9a4d9497d779",
   "metadata": {},
   "outputs": [],
   "source": [
    "# Nota: Como en general no hay mucha variación, aproximamos totalMembersWhenExecuted al número total de miembros históricos\n",
    "dfp['totalMembersWhenExecuted'] = dfp.merge(dfd.reset_index()[['dao', 'hnusers']], how='left', on='dao')['hnusers'].to_numpy()\n",
    "dfp['votersPct'] = dfp['nvoters'] / dfp['totalMembersWhenExecuted']\n",
    "\n",
    "_table = dfp.groupby(['network', 'boosted?'])['votersPct'].mean().unstack(level=0).applymap(lambda x: f'{x*100:.2f}%').sort_index(ascending=False)\n",
    "utils.tables.save_table_image(_table, 'voting/members_by_boosted.png', '% de miembros que participan')"
   ]
  },
  {
   "cell_type": "code",
   "execution_count": null,
   "id": "fc61e673-0a31-4830-b53b-1a7a2e2a5bcf",
   "metadata": {},
   "outputs": [],
   "source": [
    "_table = dfp.groupby(['network', 'boosted?', 'approved?'])['votersPct'].mean().unstack(level=0).applymap(lambda x: f'{x*100:.2f}%').sort_index(ascending=False)\n",
    "utils.tables.save_table_image(_table, 'voting/members_boosted_approved.png', '% de miembros que participan por boosted y aprobada')"
   ]
  },
  {
   "cell_type": "markdown",
   "id": "3bff08f3-64bc-4ebd-b39d-5df4c261af8c",
   "metadata": {},
   "source": [
    "# Comportamiento por DAOs"
   ]
  },
  {
   "cell_type": "code",
   "execution_count": null,
   "id": "3ffa642d-7b4a-4035-ac46-e212bd449b65",
   "metadata": {},
   "outputs": [],
   "source": [
    "dfp.groupby(['network', 'dao'])['movilizadoPct'].describe()"
   ]
  }
 ],
 "metadata": {
  "kernelspec": {
   "display_name": "Python 3 (ipykernel)",
   "language": "python",
   "name": "python3"
  },
  "language_info": {
   "codemirror_mode": {
    "name": "ipython",
    "version": 3
   },
   "file_extension": ".py",
   "mimetype": "text/x-python",
   "name": "python",
   "nbconvert_exporter": "python",
   "pygments_lexer": "ipython3",
   "version": "3.10.10"
  },
  "toc-autonumbering": true
 },
 "nbformat": 4,
 "nbformat_minor": 5
}
