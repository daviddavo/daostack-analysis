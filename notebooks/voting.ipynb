{
 "cells": [
  {
   "cell_type": "code",
   "execution_count": 1,
   "id": "cd0309ea-df4b-4816-94c5-fc0768533425",
   "metadata": {
    "execution": {
     "iopub.execute_input": "2023-06-01T10:02:07.108176Z",
     "iopub.status.busy": "2023-06-01T10:02:07.107415Z",
     "iopub.status.idle": "2023-06-01T10:02:07.488406Z",
     "shell.execute_reply": "2023-06-01T10:02:07.487143Z"
    },
    "papermill": {
     "duration": 0.394871,
     "end_time": "2023-06-01T10:02:07.491307",
     "exception": false,
     "start_time": "2023-06-01T10:02:07.096436",
     "status": "completed"
    },
    "tags": []
   },
   "outputs": [
    {
     "name": "stdout",
     "output_type": "stream",
     "text": [
      "Using DW in /home/davo/Documents/GRASIA/daostack-notebooks/datawarehouse from date 2023-05-01T00:00:00\r\n"
     ]
    },
    {
     "name": "stdout",
     "output_type": "stream",
     "text": [
      "DW version 1.1.9\r\n"
     ]
    },
    {
     "name": "stdout",
     "output_type": "stream",
     "text": [
      "dao-analyzer version: 1.2.6\n",
      "cache-scripts version: 1.1.9\n"
     ]
    }
   ],
   "source": [
    "%run common.ipy"
   ]
  },
  {
   "cell_type": "code",
   "execution_count": 2,
   "id": "3c1c01d4-1544-42b1-bcb7-27f8e7588b82",
   "metadata": {
    "execution": {
     "iopub.execute_input": "2023-06-01T10:02:07.512160Z",
     "iopub.status.busy": "2023-06-01T10:02:07.511948Z",
     "iopub.status.idle": "2023-06-01T10:02:08.512992Z",
     "shell.execute_reply": "2023-06-01T10:02:08.512514Z"
    },
    "papermill": {
     "duration": 1.013462,
     "end_time": "2023-06-01T10:02:08.514222",
     "exception": false,
     "start_time": "2023-06-01T10:02:07.500760",
     "status": "completed"
    },
    "tags": []
   },
   "outputs": [],
   "source": [
    "# Data tools\n",
    "import pandas as pd\n",
    "import numpy as np\n",
    "\n",
    "# Visualization\n",
    "from tqdm import tqdm\n",
    "import seaborn as sns\n",
    "import plotly.express as px\n",
    "import matplotlib.pyplot as plt\n",
    "from sklearn.metrics import classification_report\n",
    "\n",
    "tqdm.pandas()\n",
    "\n",
    "# Jupyter\n",
    "import ipywidgets as widgets\n",
    "from IPython.display import Markdown as Md\n",
    "\n",
    "# Local modules\n",
    "%load_ext autoreload\n",
    "%autoreload 1\n",
    "%aimport utils\n",
    "%aimport utils.plot"
   ]
  },
  {
   "cell_type": "markdown",
   "id": "9e06fae3-3883-4390-8c34-051e145d8397",
   "metadata": {
    "papermill": {
     "duration": 0.007999,
     "end_time": "2023-06-01T10:02:08.525257",
     "exception": false,
     "start_time": "2023-06-01T10:02:08.517258",
     "status": "completed"
    },
    "tags": []
   },
   "source": [
    "# Resumen"
   ]
  },
  {
   "cell_type": "markdown",
   "id": "bdd6ffe0-ce30-4343-b7c6-900a9b8b38f1",
   "metadata": {
    "papermill": {
     "duration": 0.002487,
     "end_time": "2023-06-01T10:02:08.530395",
     "exception": false,
     "start_time": "2023-06-01T10:02:08.527908",
     "status": "completed"
    },
    "tags": []
   },
   "source": [
    "## ¿Cuantos votos se han emitido?"
   ]
  },
  {
   "cell_type": "code",
   "execution_count": 3,
   "id": "8b3f83b3-4cb3-4565-92c8-1dd14512e298",
   "metadata": {
    "execution": {
     "iopub.execute_input": "2023-06-01T10:02:08.537190Z",
     "iopub.status.busy": "2023-06-01T10:02:08.536735Z",
     "iopub.status.idle": "2023-06-01T10:02:08.565137Z",
     "shell.execute_reply": "2023-06-01T10:02:08.564781Z"
    },
    "papermill": {
     "duration": 0.032818,
     "end_time": "2023-06-01T10:02:08.566030",
     "exception": false,
     "start_time": "2023-06-01T10:02:08.533212",
     "status": "completed"
    },
    "tags": []
   },
   "outputs": [
    {
     "name": "stdout",
     "output_type": "stream",
     "text": [
      "xdai       12246\n",
      "mainnet     7567\n",
      "Name: network, dtype: int64\n",
      "Total: 19813\n"
     ]
    },
    {
     "data": {
      "text/markdown": [
       "Se han emitido 19813 votos, 7567 (38.19%) de ellos en mainnet, y 12246 (61.81%) en xdai"
      ],
      "text/plain": [
       "<IPython.core.display.Markdown object>"
      ]
     },
     "execution_count": 3,
     "metadata": {},
     "output_type": "execute_result"
    }
   ],
   "source": [
    "dfv = pd.read_feather(DAOSTACK.VOTES)\n",
    "print(gbn := dfv['network'].value_counts())\n",
    "print(\"Total:\", total := len(dfv))\n",
    "mainnet = gbn['mainnet']\n",
    "xdai = gbn['xdai']\n",
    "\n",
    "def pct(x, total):\n",
    "    return f'{x/total*100:.2f}%'\n",
    "\n",
    "Md(f\"Se han emitido {total} votos, {mainnet} ({pct(mainnet,total)}) de ellos en mainnet, y {xdai} ({pct(xdai,total)}) en xdai\")"
   ]
  },
  {
   "cell_type": "markdown",
   "id": "339681a1-90be-48fe-8c14-2120c57bfbec",
   "metadata": {
    "papermill": {
     "duration": 0.002629,
     "end_time": "2023-06-01T10:02:08.571432",
     "exception": false,
     "start_time": "2023-06-01T10:02:08.568803",
     "status": "completed"
    },
    "tags": []
   },
   "source": [
    "## ¿Cuantas personas han votado?"
   ]
  },
  {
   "cell_type": "code",
   "execution_count": 4,
   "id": "46bae040-8f38-4ac5-a0c0-9f2857734638",
   "metadata": {
    "execution": {
     "iopub.execute_input": "2023-06-01T10:02:08.578314Z",
     "iopub.status.busy": "2023-06-01T10:02:08.578125Z",
     "iopub.status.idle": "2023-06-01T10:02:08.587261Z",
     "shell.execute_reply": "2023-06-01T10:02:08.586927Z"
    },
    "papermill": {
     "duration": 0.013396,
     "end_time": "2023-06-01T10:02:08.588124",
     "exception": false,
     "start_time": "2023-06-01T10:02:08.574728",
     "status": "completed"
    },
    "tags": []
   },
   "outputs": [
    {
     "name": "stdout",
     "output_type": "stream",
     "text": [
      "Total: 788\n",
      "network\n",
      "mainnet    448\n",
      "xdai       396\n",
      "Name: voter, dtype: int64\n"
     ]
    },
    {
     "data": {
      "text/markdown": [
       "788 usuarios han votado, 448 (56.85%) de ellos en mainnet y 396 (50.25%) en xdai. Nótese que hay 56 (7.11%) carteras que han votado en ambas."
      ],
      "text/plain": [
       "<IPython.core.display.Markdown object>"
      ]
     },
     "execution_count": 4,
     "metadata": {},
     "output_type": "execute_result"
    }
   ],
   "source": [
    "print(\"Total:\", total:=dfv['voter'].nunique())\n",
    "print(gbn:=dfv.groupby('network')['voter'].nunique())\n",
    "\n",
    "mainnet = gbn['mainnet']\n",
    "xdai = gbn['xdai']\n",
    "both = mainnet + xdai - total\n",
    "\n",
    "Md(f\"{total} usuarios han votado, {mainnet} ({pct(mainnet,total)}) de ellos en mainnet y {xdai} ({pct(xdai,total)}) en xdai. Nótese que hay {both} ({pct(both,total)}) carteras que han votado en ambas.\")"
   ]
  },
  {
   "cell_type": "markdown",
   "id": "a64e52ad-4759-4ff2-bb42-35be22962b8d",
   "metadata": {
    "papermill": {
     "duration": 0.002822,
     "end_time": "2023-06-01T10:02:08.594498",
     "exception": false,
     "start_time": "2023-06-01T10:02:08.591676",
     "status": "completed"
    },
    "tags": []
   },
   "source": [
    "## Número medio de usuarios que votan en las propuestas"
   ]
  },
  {
   "cell_type": "code",
   "execution_count": 5,
   "id": "1107e4ed-ad7f-4305-8b3c-8b5aa1ca10d7",
   "metadata": {
    "execution": {
     "iopub.execute_input": "2023-06-01T10:02:08.605040Z",
     "iopub.status.busy": "2023-06-01T10:02:08.604792Z",
     "iopub.status.idle": "2023-06-01T10:02:08.684543Z",
     "shell.execute_reply": "2023-06-01T10:02:08.684089Z"
    },
    "papermill": {
     "duration": 0.087133,
     "end_time": "2023-06-01T10:02:08.685816",
     "exception": false,
     "start_time": "2023-06-01T10:02:08.598683",
     "status": "completed"
    },
    "tags": []
   },
   "outputs": [],
   "source": [
    "dfp = utils.get_df('dfp').dropna(subset=['votesForPct'])\n",
    "# dfp"
   ]
  },
  {
   "cell_type": "code",
   "execution_count": 6,
   "id": "d29328ec-ef3e-4c43-834b-765e196175ac",
   "metadata": {
    "execution": {
     "iopub.execute_input": "2023-06-01T10:02:08.693392Z",
     "iopub.status.busy": "2023-06-01T10:02:08.693202Z",
     "iopub.status.idle": "2023-06-01T10:02:09.011047Z",
     "shell.execute_reply": "2023-06-01T10:02:09.010576Z"
    },
    "papermill": {
     "duration": 0.322919,
     "end_time": "2023-06-01T10:02:09.012064",
     "exception": false,
     "start_time": "2023-06-01T10:02:08.689145",
     "status": "completed"
    },
    "tags": []
   },
   "outputs": [
    {
     "data": {
      "text/plain": [
       "<AxesSubplot: xlabel='nvoters', ylabel='Density'>"
      ]
     },
     "execution_count": 6,
     "metadata": {},
     "output_type": "execute_result"
    },
    {
     "data": {
      "image/png": "[encoded data removed]",
      "text/plain": [
       "<Figure size 640x480 with 1 Axes>"
      ]
     },
     "metadata": {},
     "output_type": "display_data"
    }
   ],
   "source": [
    "sns.histplot(dfp, x='nvoters', hue='network', stat='density')"
   ]
  },
  {
   "cell_type": "markdown",
   "id": "be5850a1-40a0-4345-8d92-cef040e10ecf",
   "metadata": {
    "papermill": {
     "duration": 0.007817,
     "end_time": "2023-06-01T10:02:09.023264",
     "exception": false,
     "start_time": "2023-06-01T10:02:09.015447",
     "status": "completed"
    },
    "tags": []
   },
   "source": [
    "## Voting power movilizado por red\n",
    "\n",
    "Movilizado = no abstensión"
   ]
  },
  {
   "cell_type": "code",
   "execution_count": 7,
   "id": "3b8970fc-b703-477e-a17c-ad644b3dd4da",
   "metadata": {
    "execution": {
     "iopub.execute_input": "2023-06-01T10:02:09.030384Z",
     "iopub.status.busy": "2023-06-01T10:02:09.030159Z",
     "iopub.status.idle": "2023-06-01T10:02:09.034220Z",
     "shell.execute_reply": "2023-06-01T10:02:09.033829Z"
    },
    "papermill": {
     "duration": 0.008756,
     "end_time": "2023-06-01T10:02:09.035099",
     "exception": false,
     "start_time": "2023-06-01T10:02:09.026343",
     "status": "completed"
    },
    "tags": []
   },
   "outputs": [],
   "source": [
    "dfp['movilizadoPct'] = dfp['votesForPct'] + dfp['votesAgainstPct']\n",
    "assert ((0 <= dfp['movilizadoPct']) & (dfp['movilizadoPct'] <= 1.0)).all(), \"All percentages should be smaller than 100%\""
   ]
  },
  {
   "cell_type": "code",
   "execution_count": 8,
   "id": "8c664742-f7a5-4cf6-bc7a-bd67fe4bec9a",
   "metadata": {
    "execution": {
     "iopub.execute_input": "2023-06-01T10:02:09.042536Z",
     "iopub.status.busy": "2023-06-01T10:02:09.042346Z",
     "iopub.status.idle": "2023-06-01T10:02:09.417762Z",
     "shell.execute_reply": "2023-06-01T10:02:09.417316Z"
    },
    "papermill": {
     "duration": 0.380077,
     "end_time": "2023-06-01T10:02:09.418744",
     "exception": false,
     "start_time": "2023-06-01T10:02:09.038667",
     "status": "completed"
    },
    "tags": []
   },
   "outputs": [
    {
     "name": "stdout",
     "output_type": "stream",
     "text": [
      "saving to ../logseq/assets/nb_figures/voting/movilizadoPct.png\n",
      "Use ![](../assets/nb_figures/voting/movilizadoPct.png) to embed it in logseq\n"
     ]
    },
    {
     "data": {
      "text/plain": [
       "<AxesSubplot: xlabel='movilizadoPct', ylabel='Density'>"
      ]
     },
     "execution_count": 8,
     "metadata": {},
     "output_type": "execute_result"
    },
    {
     "data": {
      "image/png": "[encoded data removed]",
      "text/plain": [
       "<Figure size 640x480 with 1 Axes>"
      ]
     },
     "metadata": {},
     "output_type": "display_data"
    }
   ],
   "source": [
    "utils.plot.save_fig(sns.histplot(dfp, x='movilizadoPct', hue='network', stat='density'), \"voting/movilizadoPct.png\")"
   ]
  },
  {
   "cell_type": "markdown",
   "id": "0c7b871d-08ea-4e93-8305-2d2f1536a69c",
   "metadata": {
    "papermill": {
     "duration": 0.003562,
     "end_time": "2023-06-01T10:02:09.427084",
     "exception": false,
     "start_time": "2023-06-01T10:02:09.423522",
     "status": "completed"
    },
    "tags": []
   },
   "source": [
    "### Tabla de voting power movilizado\n",
    "\n",
    "Debería quedar algo tal que así:\n",
    "\n",
    "|    | mainnet | xdai |\n",
    "|---|---|---|\n",
    "| boosted | x% | y% |\n",
    "| non-boosted | x'% | y'% |"
   ]
  },
  {
   "cell_type": "code",
   "execution_count": 9,
   "id": "746377d2-c951-4d64-8466-1daae00b7b6c",
   "metadata": {
    "execution": {
     "iopub.execute_input": "2023-06-01T10:02:09.434682Z",
     "iopub.status.busy": "2023-06-01T10:02:09.434481Z",
     "iopub.status.idle": "2023-06-01T10:02:10.074546Z",
     "shell.execute_reply": "2023-06-01T10:02:10.074179Z"
    },
    "papermill": {
     "duration": 0.645377,
     "end_time": "2023-06-01T10:02:10.075757",
     "exception": false,
     "start_time": "2023-06-01T10:02:09.430380",
     "status": "completed"
    },
    "tags": []
   },
   "outputs": [
    {
     "name": "stdout",
     "output_type": "stream",
     "text": [
      "saving to ../logseq/assets/nb_tables/voting/voting_power_by_boosted.png\n",
      "/usr/bin/chromium\n"
     ]
    },
    {
     "name": "stdout",
     "output_type": "stream",
     "text": [
      "Use ![Voting power movilizado (boosted/non-boosted y network)](assets/nb_tables/voting/voting_power_by_boosted.png) to embed it in logseq\n"
     ]
    },
    {
     "data": {
      "text/html": [
       "<div>\n",
       "<style scoped>\n",
       "    .dataframe tbody tr th:only-of-type {\n",
       "        vertical-align: middle;\n",
       "    }\n",
       "\n",
       "    .dataframe tbody tr th {\n",
       "        vertical-align: top;\n",
       "    }\n",
       "\n",
       "    .dataframe thead th {\n",
       "        text-align: right;\n",
       "    }\n",
       "</style>\n",
       "<table border=\"1\" class=\"dataframe\">\n",
       "  <thead>\n",
       "    <tr style=\"text-align: right;\">\n",
       "      <th>network</th>\n",
       "      <th>mainnet</th>\n",
       "      <th>xdai</th>\n",
       "    </tr>\n",
       "    <tr>\n",
       "      <th>boosted?</th>\n",
       "      <th></th>\n",
       "      <th></th>\n",
       "    </tr>\n",
       "  </thead>\n",
       "  <tbody>\n",
       "    <tr>\n",
       "      <th>True</th>\n",
       "      <td>9.74%</td>\n",
       "      <td>8.39%</td>\n",
       "    </tr>\n",
       "    <tr>\n",
       "      <th>False</th>\n",
       "      <td>32.13%</td>\n",
       "      <td>47.45%</td>\n",
       "    </tr>\n",
       "  </tbody>\n",
       "</table>\n",
       "</div>"
      ],
      "text/plain": [
       "network  mainnet    xdai\n",
       "boosted?                \n",
       "True       9.74%   8.39%\n",
       "False     32.13%  47.45%"
      ]
     },
     "execution_count": 9,
     "metadata": {},
     "output_type": "execute_result"
    }
   ],
   "source": [
    "dfp['boosted?'] = ~dfp.boostedAt.isna()\n",
    "\n",
    "_table = dfp.groupby(['network', 'boosted?'])['movilizadoPct'].mean().unstack(level=0).applymap(lambda x: f'{x*100:.2f}%').sort_index(ascending=False)\n",
    "utils.tables.save_table_image(_table, 'voting/voting_power_by_boosted.png', 'Voting power movilizado (boosted/non-boosted y network)')"
   ]
  },
  {
   "cell_type": "markdown",
   "id": "c0ec9475-79b2-4183-9d7e-1a1cf578f8d8",
   "metadata": {
    "papermill": {
     "duration": 0.004082,
     "end_time": "2023-06-01T10:02:10.084032",
     "exception": false,
     "start_time": "2023-06-01T10:02:10.079950",
     "status": "completed"
    },
    "tags": []
   },
   "source": [
    "### Tabla de voting power movilizado según aprobadas y no"
   ]
  },
  {
   "cell_type": "code",
   "execution_count": 10,
   "id": "6116ce7c-bd73-45ba-b50c-afabdb094838",
   "metadata": {
    "execution": {
     "iopub.execute_input": "2023-06-01T10:02:10.091978Z",
     "iopub.status.busy": "2023-06-01T10:02:10.091686Z",
     "iopub.status.idle": "2023-06-01T10:02:10.095455Z",
     "shell.execute_reply": "2023-06-01T10:02:10.095126Z"
    },
    "papermill": {
     "duration": 0.008762,
     "end_time": "2023-06-01T10:02:10.096294",
     "exception": false,
     "start_time": "2023-06-01T10:02:10.087532",
     "status": "completed"
    },
    "tags": []
   },
   "outputs": [
    {
     "data": {
      "text/plain": [
       "Index(['proposer', 'stage', 'createdAt', 'preBoostedAt', 'boostedAt',\n",
       "       'quietEndingPeriodBeganAt', 'closingAt', 'preBoostedClosingAt',\n",
       "       'executedAt', 'totalRepWhenExecuted', 'totalRepWhenCreated',\n",
       "       'executionState', 'expiresInQueueAt', 'votesFor', 'votesAgainst',\n",
       "       'winningOutcome', 'stakesFor', 'stakesAgainst', 'title', 'description',\n",
       "       'url', 'confidence', 'confidenceThreshold',\n",
       "       'queuedVoteRequiredPercentage', 'queuedVotePeriodLimit',\n",
       "       'boostedVotePeriodLimit', 'thresholdConst', 'minimumDaoBounty',\n",
       "       'daoBountyConst', 'dao', 'competitionId', 'name', 'group',\n",
       "       'originalName', 'votesForPct', 'votesAgainstPct', 'executedAtMonth',\n",
       "       'createdAtMonth', 'daoRegister', 'nvoters', 'daostake', 'movilizadoPct',\n",
       "       'boosted?'],\n",
       "      dtype='object')"
      ]
     },
     "execution_count": 10,
     "metadata": {},
     "output_type": "execute_result"
    }
   ],
   "source": [
    "dfp.columns"
   ]
  },
  {
   "cell_type": "code",
   "execution_count": 11,
   "id": "47d19f2c-c771-48d7-80be-c057d71ef7f8",
   "metadata": {
    "execution": {
     "iopub.execute_input": "2023-06-01T10:02:10.103884Z",
     "iopub.status.busy": "2023-06-01T10:02:10.103668Z",
     "iopub.status.idle": "2023-06-01T10:02:10.370075Z",
     "shell.execute_reply": "2023-06-01T10:02:10.369707Z"
    },
    "papermill": {
     "duration": 0.271203,
     "end_time": "2023-06-01T10:02:10.371069",
     "exception": false,
     "start_time": "2023-06-01T10:02:10.099866",
     "status": "completed"
    },
    "tags": []
   },
   "outputs": [
    {
     "name": "stdout",
     "output_type": "stream",
     "text": [
      "saving to ../logseq/assets/nb_tables/voting/voting_power_by_boosted_approved.png\n",
      "/usr/bin/chromium\n"
     ]
    },
    {
     "name": "stdout",
     "output_type": "stream",
     "text": [
      "Use ![Voting power movilizado (boosted? y approved? vs. network)](assets/nb_tables/voting/voting_power_by_boosted_approved.png) to embed it in logseq\n"
     ]
    },
    {
     "data": {
      "text/html": [
       "<div>\n",
       "<style scoped>\n",
       "    .dataframe tbody tr th:only-of-type {\n",
       "        vertical-align: middle;\n",
       "    }\n",
       "\n",
       "    .dataframe tbody tr th {\n",
       "        vertical-align: top;\n",
       "    }\n",
       "\n",
       "    .dataframe thead th {\n",
       "        text-align: right;\n",
       "    }\n",
       "</style>\n",
       "<table border=\"1\" class=\"dataframe\">\n",
       "  <thead>\n",
       "    <tr style=\"text-align: right;\">\n",
       "      <th></th>\n",
       "      <th>network</th>\n",
       "      <th>mainnet</th>\n",
       "      <th>xdai</th>\n",
       "    </tr>\n",
       "    <tr>\n",
       "      <th>boosted?</th>\n",
       "      <th>approved?</th>\n",
       "      <th></th>\n",
       "      <th></th>\n",
       "    </tr>\n",
       "  </thead>\n",
       "  <tbody>\n",
       "    <tr>\n",
       "      <th rowspan=\"2\" valign=\"top\">True</th>\n",
       "      <th>True</th>\n",
       "      <td>9.72%</td>\n",
       "      <td>8.39%</td>\n",
       "    </tr>\n",
       "    <tr>\n",
       "      <th>False</th>\n",
       "      <td>10.10%</td>\n",
       "      <td>8.53%</td>\n",
       "    </tr>\n",
       "    <tr>\n",
       "      <th rowspan=\"2\" valign=\"top\">False</th>\n",
       "      <th>True</th>\n",
       "      <td>60.58%</td>\n",
       "      <td>83.41%</td>\n",
       "    </tr>\n",
       "    <tr>\n",
       "      <th>False</th>\n",
       "      <td>7.00%</td>\n",
       "      <td>10.09%</td>\n",
       "    </tr>\n",
       "  </tbody>\n",
       "</table>\n",
       "</div>"
      ],
      "text/plain": [
       "network            mainnet    xdai\n",
       "boosted? approved?                \n",
       "True     True        9.72%   8.39%\n",
       "         False      10.10%   8.53%\n",
       "False    True       60.58%  83.41%\n",
       "         False       7.00%  10.09%"
      ]
     },
     "execution_count": 11,
     "metadata": {},
     "output_type": "execute_result"
    }
   ],
   "source": [
    "title = \"Voting power movilizado por red según boosteadas y aprobadas o no\"\n",
    "dfp['approved?'] = dfp['winningOutcome'] == 'Pass'\n",
    "\n",
    "_table = dfp.groupby(['network', 'boosted?', 'approved?'])['movilizadoPct'].mean().unstack(level=0).applymap(lambda x:f'{x*100:.2f}%').sort_index(ascending=False)\n",
    "utils.tables.save_table_image(_table, 'voting/voting_power_by_boosted_approved.png', 'Voting power movilizado (boosted? y approved? vs. network)')"
   ]
  },
  {
   "cell_type": "code",
   "execution_count": 12,
   "id": "822e3328-727b-48d6-9989-dbd4c5e20b60",
   "metadata": {
    "execution": {
     "iopub.execute_input": "2023-06-01T10:02:10.379568Z",
     "iopub.status.busy": "2023-06-01T10:02:10.379412Z",
     "iopub.status.idle": "2023-06-01T10:02:10.669089Z",
     "shell.execute_reply": "2023-06-01T10:02:10.668715Z"
    },
    "papermill": {
     "duration": 0.295098,
     "end_time": "2023-06-01T10:02:10.669976",
     "exception": false,
     "start_time": "2023-06-01T10:02:10.374878",
     "status": "completed"
    },
    "tags": []
   },
   "outputs": [
    {
     "name": "stdout",
     "output_type": "stream",
     "text": [
      "saving to ../logseq/assets/nb_tables/voting/voting_power_boosted_approved_cnt.png\n",
      "/usr/bin/chromium\n"
     ]
    },
    {
     "name": "stdout",
     "output_type": "stream",
     "text": [
      "Use ![Número de casos de apoyo del voting power movilizado](assets/nb_tables/voting/voting_power_boosted_approved_cnt.png) to embed it in logseq\n"
     ]
    },
    {
     "data": {
      "text/html": [
       "<div>\n",
       "<style scoped>\n",
       "    .dataframe tbody tr th:only-of-type {\n",
       "        vertical-align: middle;\n",
       "    }\n",
       "\n",
       "    .dataframe tbody tr th {\n",
       "        vertical-align: top;\n",
       "    }\n",
       "\n",
       "    .dataframe thead th {\n",
       "        text-align: right;\n",
       "    }\n",
       "</style>\n",
       "<table border=\"1\" class=\"dataframe\">\n",
       "  <thead>\n",
       "    <tr style=\"text-align: right;\">\n",
       "      <th></th>\n",
       "      <th>network</th>\n",
       "      <th>mainnet</th>\n",
       "      <th>xdai</th>\n",
       "    </tr>\n",
       "    <tr>\n",
       "      <th>boosted?</th>\n",
       "      <th>approved?</th>\n",
       "      <th></th>\n",
       "      <th></th>\n",
       "    </tr>\n",
       "  </thead>\n",
       "  <tbody>\n",
       "    <tr>\n",
       "      <th rowspan=\"2\" valign=\"top\">True</th>\n",
       "      <th>True</th>\n",
       "      <td>1482</td>\n",
       "      <td>1321</td>\n",
       "    </tr>\n",
       "    <tr>\n",
       "      <th>False</th>\n",
       "      <td>42</td>\n",
       "      <td>18</td>\n",
       "    </tr>\n",
       "    <tr>\n",
       "      <th rowspan=\"2\" valign=\"top\">False</th>\n",
       "      <th>True</th>\n",
       "      <td>395</td>\n",
       "      <td>133</td>\n",
       "    </tr>\n",
       "    <tr>\n",
       "      <th>False</th>\n",
       "      <td>447</td>\n",
       "      <td>128</td>\n",
       "    </tr>\n",
       "  </tbody>\n",
       "</table>\n",
       "</div>"
      ],
      "text/plain": [
       "network             mainnet  xdai\n",
       "boosted? approved?               \n",
       "True     True          1482  1321\n",
       "         False           42    18\n",
       "False    True           395   133\n",
       "         False          447   128"
      ]
     },
     "execution_count": 12,
     "metadata": {},
     "output_type": "execute_result"
    }
   ],
   "source": [
    "_table = dfp.groupby(['network', 'boosted?', 'approved?'])['movilizadoPct'].count().unstack(level=0).sort_index(ascending=False)\n",
    "utils.tables.save_table_image(_table, 'voting/voting_power_boosted_approved_cnt.png', 'Número de casos de apoyo del voting power movilizado')"
   ]
  },
  {
   "cell_type": "markdown",
   "id": "40ca637e-12b7-4c0e-a834-ba68e116732a",
   "metadata": {
    "papermill": {
     "duration": 0.004152,
     "end_time": "2023-06-01T10:02:10.678141",
     "exception": false,
     "start_time": "2023-06-01T10:02:10.673989",
     "status": "completed"
    },
    "tags": []
   },
   "source": [
    "### Tabla de voting power medio movilizado por tipo de propuesta y red\n",
    "\n",
    "Código copiado de [proposals.ipynb](./proposals.ipynb)"
   ]
  },
  {
   "cell_type": "code",
   "execution_count": 13,
   "id": "0a1e3cf1-b69f-45bf-924a-7d2b01e6d99f",
   "metadata": {
    "execution": {
     "iopub.execute_input": "2023-06-01T10:02:10.687397Z",
     "iopub.status.busy": "2023-06-01T10:02:10.686977Z",
     "iopub.status.idle": "2023-06-01T10:02:11.122890Z",
     "shell.execute_reply": "2023-06-01T10:02:11.122533Z"
    },
    "papermill": {
     "duration": 0.441964,
     "end_time": "2023-06-01T10:02:11.123860",
     "exception": false,
     "start_time": "2023-06-01T10:02:10.681896",
     "status": "completed"
    },
    "tags": []
   },
   "outputs": [
    {
     "name": "stdout",
     "output_type": "stream",
     "text": [
      "Index(['network', 'id', 'proposer', 'stage', 'createdAt', 'preBoostedAt',\n",
      "       'boostedAt', 'quietEndingPeriodBeganAt', 'closingAt',\n",
      "       'preBoostedClosingAt', 'executedAt', 'totalRepWhenExecuted',\n",
      "       'totalRepWhenCreated', 'executionState', 'expiresInQueueAt', 'votesFor',\n",
      "       'votesAgainst', 'winningOutcome', 'stakesFor', 'stakesAgainst', 'title',\n",
      "       'description', 'url', 'confidence', 'confidenceThreshold',\n",
      "       'queuedVoteRequiredPercentage', 'queuedVotePeriodLimit',\n",
      "       'boostedVotePeriodLimit', 'thresholdConst', 'minimumDaoBounty',\n",
      "       'daoBountyConst', 'dao', 'competitionId', 'name', 'group',\n",
      "       'originalName', 'votesForPct', 'votesAgainstPct', 'executedAtMonth',\n",
      "       'createdAtMonth', 'daoRegister', 'nvoters', 'daostake', 'stakes',\n",
      "       'boosted', 'approved', 'votesPct'],\n",
      "      dtype='object')\n"
     ]
    },
    {
     "data": {
      "text/plain": [
       "array([['\\\\textbf{9.7\\\\%}\\n 9.6\\\\%\\n0.1\\\\%',\n",
       "        '\\\\textbf{60.7\\\\%}\\n 60.7\\\\%\\n0.0\\\\%'],\n",
       "       ['\\\\textbf{10.6\\\\%}\\n 3.0\\\\%\\n7.6\\\\%',\n",
       "        '\\\\textbf{7.2\\\\%}\\n 2.2\\\\%\\n5.0\\\\%']], dtype='<U29')"
      ]
     },
     "metadata": {},
     "output_type": "display_data"
    },
    {
     "data": {
      "text/plain": [
       "array([['\\\\textbf{8.4\\\\%}\\n 8.3\\\\%\\n0.0\\\\%',\n",
       "        '\\\\textbf{60.8\\\\%}\\n 60.8\\\\%\\n0.0\\\\%'],\n",
       "       ['\\\\textbf{9.0\\\\%}\\n 2.2\\\\%\\n6.8\\\\%',\n",
       "        '\\\\textbf{5.5\\\\%}\\n 1.5\\\\%\\n4.0\\\\%']], dtype='<U29')"
      ]
     },
     "metadata": {},
     "output_type": "display_data"
    },
    {
     "name": "stdout",
     "output_type": "stream",
     "text": [
      "saving to ../logseq/assets/nb_figures/proposals/average_voting_power.png\n"
     ]
    },
    {
     "name": "stdout",
     "output_type": "stream",
     "text": [
      "Use ![Cantidad media de Voting Power ejercido en cada propuesta por red y tipo](../assets/nb_figures/proposals/average_voting_power.png) to embed it in logseq\n"
     ]
    },
    {
     "data": {
      "image/png": "[encoded data removed]",
      "text/plain": [
       "<Figure size 1000x400 with 4 Axes>"
      ]
     },
     "execution_count": 13,
     "metadata": {},
     "output_type": "execute_result"
    }
   ],
   "source": [
    "dfpr = utils.get_df('dfpr')\n",
    "\n",
    "dfpr['votesPct'] = dfpr['votesForPct'] + dfpr['votesAgainstPct']\n",
    "assert (~(dfpr['votesPct'] > 1)).any(), \"Votes percentage should be bellow 100%\"\n",
    "\n",
    "print(dfpr.columns)\n",
    "\n",
    "fig, axs = plt.subplots(ncols=2, nrows=1, figsize=(10,4))\n",
    "fig.suptitle(\"Cantidad media de Voting Power ejercido en cada propuesta por red y tipo\")\n",
    "# fig.supxlabel(\"Red\")\n",
    "\n",
    "for i, n in enumerate(['mainnet', 'xdai']):    \n",
    "    dfprn = dfpr[dfpr['network'] == n]\n",
    "    \n",
    "    ct = pd.crosstab(dfprn['approved'], dfprn['boosted'], values=dfprn['votesPct'], aggfunc='mean').sort_index(ascending=False).sort_index(axis=1, ascending=False)\n",
    "    ctup = pd.crosstab(dfprn['approved'], dfprn['boosted'], values=dfprn['votesForPct'], aggfunc='mean').sort_index(ascending=False).sort_index(axis=1, ascending=False).to_numpy()\n",
    "    ctdown = pd.crosstab(dfprn['approved'], dfprn['boosted'], values=dfprn['votesAgainstPct'], aggfunc='mean').sort_index(ascending=False).sort_index(axis=1, ascending=False).to_numpy()\n",
    "    ct *= 100\n",
    "    ctup *= 100\n",
    "    ctdown *= 100\n",
    "    # Hay que convertirlo a float porque es un Float\n",
    "    ct = ct.astype(float)\n",
    "    \n",
    "    vlabel = np.vectorize(lambda up, down: f'\\\\textbf{{{up+down:.1f}\\%}}\\n {up:.1f}\\%\\n{down:.1f}\\%')\n",
    "        \n",
    "    display(vlabel(ctup, ctdown))\n",
    "    # total = ct.sum().sum()\n",
    "    \n",
    "    sns.heatmap(ct, \n",
    "                annot=vlabel(ctup, ctdown), fmt='', \n",
    "                ax=axs[i], \n",
    "                square=True,\n",
    "                vmin=0, vmax=100,\n",
    "                cmap=utils.plot.default_heatmap_cmap, \n",
    "                annot_kws={'usetex': True}\n",
    "               )\n",
    "    axs[i].set_title(n)\n",
    "    \n",
    "    if i != 0:\n",
    "        axs[i].set_ylabel(\"\")\n",
    "        \n",
    "utils.plot.save_fig(fig, 'proposals/average_voting_power.png')"
   ]
  },
  {
   "cell_type": "markdown",
   "id": "94c6494a-f578-4da5-bedc-d6e70ff142eb",
   "metadata": {
    "papermill": {
     "duration": 0.007808,
     "end_time": "2023-06-01T10:02:11.136119",
     "exception": false,
     "start_time": "2023-06-01T10:02:11.128311",
     "status": "completed"
    },
    "tags": []
   },
   "source": [
    "### De las propuestas NANB, ¿cuantas tienen más a favor que en contra?"
   ]
  },
  {
   "cell_type": "code",
   "execution_count": 14,
   "id": "53dd10c0-e9cb-470f-a1e9-1fe411211ab1",
   "metadata": {
    "execution": {
     "iopub.execute_input": "2023-06-01T10:02:11.145237Z",
     "iopub.status.busy": "2023-06-01T10:02:11.145069Z",
     "iopub.status.idle": "2023-06-01T10:02:11.148808Z",
     "shell.execute_reply": "2023-06-01T10:02:11.148386Z"
    },
    "papermill": {
     "duration": 0.00967,
     "end_time": "2023-06-01T10:02:11.149677",
     "exception": false,
     "start_time": "2023-06-01T10:02:11.140007",
     "status": "completed"
    },
    "tags": []
   },
   "outputs": [
    {
     "data": {
      "text/plain": [
       "False"
      ]
     },
     "execution_count": 14,
     "metadata": {},
     "output_type": "execute_result"
    }
   ],
   "source": [
    "dfpr['boosted'].isna().any()"
   ]
  },
  {
   "cell_type": "code",
   "execution_count": 15,
   "id": "255b42dc-4426-4fd0-a0a9-a022f2d56682",
   "metadata": {
    "execution": {
     "iopub.execute_input": "2023-06-01T10:02:11.159224Z",
     "iopub.status.busy": "2023-06-01T10:02:11.159080Z",
     "iopub.status.idle": "2023-06-01T10:02:11.167923Z",
     "shell.execute_reply": "2023-06-01T10:02:11.167591Z"
    },
    "papermill": {
     "duration": 0.014573,
     "end_time": "2023-06-01T10:02:11.168709",
     "exception": false,
     "start_time": "2023-06-01T10:02:11.154136",
     "status": "completed"
    },
    "tags": []
   },
   "outputs": [
    {
     "name": "stdout",
     "output_type": "stream",
     "text": [
      "network  relMaj\n",
      "mainnet  False     358\n",
      "         True       71\n",
      "xdai     False      85\n",
      "         True       11\n",
      "Name: relMaj, dtype: int64\n"
     ]
    },
    {
     "data": {
      "text/plain": [
       "network  relMaj\n",
       "mainnet  False     83.449883\n",
       "         True      16.550117\n",
       "xdai     False     88.541667\n",
       "         True      11.458333\n",
       "Name: relMaj, dtype: float64"
      ]
     },
     "execution_count": 15,
     "metadata": {},
     "output_type": "execute_result"
    }
   ],
   "source": [
    "dfpr['relMaj'] = dfpr['votesFor'] > dfpr['votesAgainst']\n",
    "\n",
    "# nanb: non approved, non boosted\n",
    "msk = ~dfpr['approved'] & ~dfpr['boosted']\n",
    "nanb = dfpr[msk]\n",
    "\n",
    "print(vc := nanb.groupby('network')['relMaj'].value_counts())\n",
    "vc / vc.groupby('network').sum() * 100"
   ]
  },
  {
   "cell_type": "markdown",
   "id": "8415ec09-32b4-427d-b83d-2871dc67674a",
   "metadata": {
    "papermill": {
     "duration": 0.004403,
     "end_time": "2023-06-01T10:02:11.177236",
     "exception": false,
     "start_time": "2023-06-01T10:02:11.172833",
     "status": "completed"
    },
    "tags": []
   },
   "source": [
    "## % usuarios movilizado por red"
   ]
  },
  {
   "cell_type": "code",
   "execution_count": 16,
   "id": "f89e5fd2-5ab7-4996-95be-b30c5f9d3ead",
   "metadata": {
    "execution": {
     "iopub.execute_input": "2023-06-01T10:02:11.187084Z",
     "iopub.status.busy": "2023-06-01T10:02:11.186868Z",
     "iopub.status.idle": "2023-06-01T10:02:11.209547Z",
     "shell.execute_reply": "2023-06-01T10:02:11.208816Z"
    },
    "papermill": {
     "duration": 0.029715,
     "end_time": "2023-06-01T10:02:11.211251",
     "exception": false,
     "start_time": "2023-06-01T10:02:11.181536",
     "status": "completed"
    },
    "tags": []
   },
   "outputs": [],
   "source": [
    "dfd = utils.get_df('dfd')"
   ]
  },
  {
   "cell_type": "code",
   "execution_count": 17,
   "id": "635cd020-ec60-46a2-b42f-9a4d9497d779",
   "metadata": {
    "execution": {
     "iopub.execute_input": "2023-06-01T10:02:11.223360Z",
     "iopub.status.busy": "2023-06-01T10:02:11.223188Z",
     "iopub.status.idle": "2023-06-01T10:02:11.524218Z",
     "shell.execute_reply": "2023-06-01T10:02:11.523868Z"
    },
    "papermill": {
     "duration": 0.30692,
     "end_time": "2023-06-01T10:02:11.525018",
     "exception": false,
     "start_time": "2023-06-01T10:02:11.218098",
     "status": "completed"
    },
    "tags": []
   },
   "outputs": [
    {
     "name": "stdout",
     "output_type": "stream",
     "text": [
      "saving to ../logseq/assets/nb_tables/voting/members_by_boosted.png\n",
      "/usr/bin/chromium\n"
     ]
    },
    {
     "name": "stdout",
     "output_type": "stream",
     "text": [
      "Use ![% de miembros que participan](assets/nb_tables/voting/members_by_boosted.png) to embed it in logseq\n"
     ]
    },
    {
     "data": {
      "text/html": [
       "<div>\n",
       "<style scoped>\n",
       "    .dataframe tbody tr th:only-of-type {\n",
       "        vertical-align: middle;\n",
       "    }\n",
       "\n",
       "    .dataframe tbody tr th {\n",
       "        vertical-align: top;\n",
       "    }\n",
       "\n",
       "    .dataframe thead th {\n",
       "        text-align: right;\n",
       "    }\n",
       "</style>\n",
       "<table border=\"1\" class=\"dataframe\">\n",
       "  <thead>\n",
       "    <tr style=\"text-align: right;\">\n",
       "      <th>network</th>\n",
       "      <th>mainnet</th>\n",
       "      <th>xdai</th>\n",
       "    </tr>\n",
       "    <tr>\n",
       "      <th>boosted?</th>\n",
       "      <th></th>\n",
       "      <th></th>\n",
       "    </tr>\n",
       "  </thead>\n",
       "  <tbody>\n",
       "    <tr>\n",
       "      <th>True</th>\n",
       "      <td>2.43%</td>\n",
       "      <td>1.02%</td>\n",
       "    </tr>\n",
       "    <tr>\n",
       "      <th>False</th>\n",
       "      <td>8.06%</td>\n",
       "      <td>34.67%</td>\n",
       "    </tr>\n",
       "  </tbody>\n",
       "</table>\n",
       "</div>"
      ],
      "text/plain": [
       "network  mainnet    xdai\n",
       "boosted?                \n",
       "True       2.43%   1.02%\n",
       "False      8.06%  34.67%"
      ]
     },
     "execution_count": 17,
     "metadata": {},
     "output_type": "execute_result"
    }
   ],
   "source": [
    "# Nota: Como en general no hay mucha variación, aproximamos totalMembersWhenExecuted al número total de miembros históricos\n",
    "dfp['totalMembersWhenExecuted'] = dfp.merge(dfd.reset_index()[['dao', 'hnusers']], how='left', on='dao')['hnusers'].to_numpy()\n",
    "dfp['votersPct'] = dfp['nvoters'] / dfp['totalMembersWhenExecuted']\n",
    "\n",
    "_table = dfp.groupby(['network', 'boosted?'])['votersPct'].mean().unstack(level=0).applymap(lambda x: f'{x*100:.2f}%').sort_index(ascending=False)\n",
    "utils.tables.save_table_image(_table, 'voting/members_by_boosted.png', '% de miembros que participan')"
   ]
  },
  {
   "cell_type": "code",
   "execution_count": 18,
   "id": "fc61e673-0a31-4830-b53b-1a7a2e2a5bcf",
   "metadata": {
    "execution": {
     "iopub.execute_input": "2023-06-01T10:02:11.535292Z",
     "iopub.status.busy": "2023-06-01T10:02:11.535145Z",
     "iopub.status.idle": "2023-06-01T10:02:11.805058Z",
     "shell.execute_reply": "2023-06-01T10:02:11.804694Z"
    },
    "papermill": {
     "duration": 0.275889,
     "end_time": "2023-06-01T10:02:11.805907",
     "exception": false,
     "start_time": "2023-06-01T10:02:11.530018",
     "status": "completed"
    },
    "tags": []
   },
   "outputs": [
    {
     "name": "stdout",
     "output_type": "stream",
     "text": [
      "saving to ../logseq/assets/nb_tables/voting/members_boosted_approved.png\n",
      "/usr/bin/chromium\n"
     ]
    },
    {
     "name": "stdout",
     "output_type": "stream",
     "text": [
      "Use ![% de miembros que participan por boosted y aprobada](assets/nb_tables/voting/members_boosted_approved.png) to embed it in logseq\n"
     ]
    },
    {
     "data": {
      "text/html": [
       "<div>\n",
       "<style scoped>\n",
       "    .dataframe tbody tr th:only-of-type {\n",
       "        vertical-align: middle;\n",
       "    }\n",
       "\n",
       "    .dataframe tbody tr th {\n",
       "        vertical-align: top;\n",
       "    }\n",
       "\n",
       "    .dataframe thead th {\n",
       "        text-align: right;\n",
       "    }\n",
       "</style>\n",
       "<table border=\"1\" class=\"dataframe\">\n",
       "  <thead>\n",
       "    <tr style=\"text-align: right;\">\n",
       "      <th></th>\n",
       "      <th>network</th>\n",
       "      <th>mainnet</th>\n",
       "      <th>xdai</th>\n",
       "    </tr>\n",
       "    <tr>\n",
       "      <th>boosted?</th>\n",
       "      <th>approved?</th>\n",
       "      <th></th>\n",
       "      <th></th>\n",
       "    </tr>\n",
       "  </thead>\n",
       "  <tbody>\n",
       "    <tr>\n",
       "      <th rowspan=\"2\" valign=\"top\">True</th>\n",
       "      <th>True</th>\n",
       "      <td>2.39%</td>\n",
       "      <td>1.02%</td>\n",
       "    </tr>\n",
       "    <tr>\n",
       "      <th>False</th>\n",
       "      <td>3.63%</td>\n",
       "      <td>0.97%</td>\n",
       "    </tr>\n",
       "    <tr>\n",
       "      <th rowspan=\"2\" valign=\"top\">False</th>\n",
       "      <th>True</th>\n",
       "      <td>14.34%</td>\n",
       "      <td>59.81%</td>\n",
       "    </tr>\n",
       "    <tr>\n",
       "      <th>False</th>\n",
       "      <td>2.51%</td>\n",
       "      <td>8.55%</td>\n",
       "    </tr>\n",
       "  </tbody>\n",
       "</table>\n",
       "</div>"
      ],
      "text/plain": [
       "network            mainnet    xdai\n",
       "boosted? approved?                \n",
       "True     True        2.39%   1.02%\n",
       "         False       3.63%   0.97%\n",
       "False    True       14.34%  59.81%\n",
       "         False       2.51%   8.55%"
      ]
     },
     "execution_count": 18,
     "metadata": {},
     "output_type": "execute_result"
    }
   ],
   "source": [
    "_table = dfp.groupby(['network', 'boosted?', 'approved?'])['votersPct'].mean().unstack(level=0).applymap(lambda x: f'{x*100:.2f}%').sort_index(ascending=False)\n",
    "utils.tables.save_table_image(_table, 'voting/members_boosted_approved.png', '% de miembros que participan por boosted y aprobada')"
   ]
  },
  {
   "cell_type": "markdown",
   "id": "3bff08f3-64bc-4ebd-b39d-5df4c261af8c",
   "metadata": {
    "papermill": {
     "duration": 0.004632,
     "end_time": "2023-06-01T10:02:11.815781",
     "exception": false,
     "start_time": "2023-06-01T10:02:11.811149",
     "status": "completed"
    },
    "tags": []
   },
   "source": [
    "# Comportamiento por DAOs"
   ]
  },
  {
   "cell_type": "code",
   "execution_count": 19,
   "id": "3ffa642d-7b4a-4035-ac46-e212bd449b65",
   "metadata": {
    "execution": {
     "iopub.execute_input": "2023-06-01T10:02:11.826031Z",
     "iopub.status.busy": "2023-06-01T10:02:11.825868Z",
     "iopub.status.idle": "2023-06-01T10:02:11.867987Z",
     "shell.execute_reply": "2023-06-01T10:02:11.867466Z"
    },
    "papermill": {
     "duration": 0.048565,
     "end_time": "2023-06-01T10:02:11.869019",
     "exception": false,
     "start_time": "2023-06-01T10:02:11.820454",
     "status": "completed"
    },
    "tags": []
   },
   "outputs": [
    {
     "data": {
      "text/html": [
       "<div>\n",
       "<style scoped>\n",
       "    .dataframe tbody tr th:only-of-type {\n",
       "        vertical-align: middle;\n",
       "    }\n",
       "\n",
       "    .dataframe tbody tr th {\n",
       "        vertical-align: top;\n",
       "    }\n",
       "\n",
       "    .dataframe thead th {\n",
       "        text-align: right;\n",
       "    }\n",
       "</style>\n",
       "<table border=\"1\" class=\"dataframe\">\n",
       "  <thead>\n",
       "    <tr style=\"text-align: right;\">\n",
       "      <th></th>\n",
       "      <th></th>\n",
       "      <th>count</th>\n",
       "      <th>unique</th>\n",
       "      <th>top</th>\n",
       "      <th>freq</th>\n",
       "    </tr>\n",
       "    <tr>\n",
       "      <th>network</th>\n",
       "      <th>dao</th>\n",
       "      <th></th>\n",
       "      <th></th>\n",
       "      <th></th>\n",
       "      <th></th>\n",
       "    </tr>\n",
       "  </thead>\n",
       "  <tbody>\n",
       "    <tr>\n",
       "      <th rowspan=\"5\" valign=\"top\">mainnet</th>\n",
       "      <th>0x0b93ba560283350d4216f29dc57e15df38d0eace</th>\n",
       "      <td>49.0</td>\n",
       "      <td>47.0</td>\n",
       "      <td>0.000000</td>\n",
       "      <td>2.0</td>\n",
       "    </tr>\n",
       "    <tr>\n",
       "      <th>0x15344ecdc2c4edfcb092e284d93c20f0529fd8a6</th>\n",
       "      <td>127.0</td>\n",
       "      <td>64.0</td>\n",
       "      <td>0.193642</td>\n",
       "      <td>15.0</td>\n",
       "    </tr>\n",
       "    <tr>\n",
       "      <th>0x273d0f686a53a49a0fba2a801566b19f9aaf8fcd</th>\n",
       "      <td>37.0</td>\n",
       "      <td>11.0</td>\n",
       "      <td>0.000000</td>\n",
       "      <td>8.0</td>\n",
       "    </tr>\n",
       "    <tr>\n",
       "      <th>0x294f999356ed03347c7a23bcbcf8d33fa41dc830</th>\n",
       "      <td>387.0</td>\n",
       "      <td>355.0</td>\n",
       "      <td>0.000000</td>\n",
       "      <td>32.0</td>\n",
       "    </tr>\n",
       "    <tr>\n",
       "      <th>0x2b8c70fffda7f3d7667f7cfede1429313886329c</th>\n",
       "      <td>19.0</td>\n",
       "      <td>17.0</td>\n",
       "      <td>0.000000</td>\n",
       "      <td>3.0</td>\n",
       "    </tr>\n",
       "    <tr>\n",
       "      <th>...</th>\n",
       "      <th>...</th>\n",
       "      <td>...</td>\n",
       "      <td>...</td>\n",
       "      <td>...</td>\n",
       "      <td>...</td>\n",
       "    </tr>\n",
       "    <tr>\n",
       "      <th rowspan=\"5\" valign=\"top\">xdai</th>\n",
       "      <th>0xeed417f80cd918ce65b8e141daa00704aef98a90</th>\n",
       "      <td>1.0</td>\n",
       "      <td>1.0</td>\n",
       "      <td>1.000000</td>\n",
       "      <td>1.0</td>\n",
       "    </tr>\n",
       "    <tr>\n",
       "      <th>0xef25b64d4bdbe23f1bb5e557b5d24f12c46da0bc</th>\n",
       "      <td>6.0</td>\n",
       "      <td>1.0</td>\n",
       "      <td>1.000000</td>\n",
       "      <td>6.0</td>\n",
       "    </tr>\n",
       "    <tr>\n",
       "      <th>0xf902172bd2f34a6cf86d424f0440836d2d89afeb</th>\n",
       "      <td>3.0</td>\n",
       "      <td>1.0</td>\n",
       "      <td>1.000000</td>\n",
       "      <td>3.0</td>\n",
       "    </tr>\n",
       "    <tr>\n",
       "      <th>0xfa19f292b400579794e2e3cc0d4b6559482b9d94</th>\n",
       "      <td>4.0</td>\n",
       "      <td>1.0</td>\n",
       "      <td>0.000000</td>\n",
       "      <td>4.0</td>\n",
       "    </tr>\n",
       "    <tr>\n",
       "      <th>0xfd4a08ba1863718d92467ad05f13b352c3ae2cfd</th>\n",
       "      <td>1.0</td>\n",
       "      <td>1.0</td>\n",
       "      <td>1.000000</td>\n",
       "      <td>1.0</td>\n",
       "    </tr>\n",
       "  </tbody>\n",
       "</table>\n",
       "<p>66 rows × 4 columns</p>\n",
       "</div>"
      ],
      "text/plain": [
       "                                                    count  unique       top  \\\n",
       "network dao                                                                   \n",
       "mainnet 0x0b93ba560283350d4216f29dc57e15df38d0eace   49.0    47.0  0.000000   \n",
       "        0x15344ecdc2c4edfcb092e284d93c20f0529fd8a6  127.0    64.0  0.193642   \n",
       "        0x273d0f686a53a49a0fba2a801566b19f9aaf8fcd   37.0    11.0  0.000000   \n",
       "        0x294f999356ed03347c7a23bcbcf8d33fa41dc830  387.0   355.0  0.000000   \n",
       "        0x2b8c70fffda7f3d7667f7cfede1429313886329c   19.0    17.0  0.000000   \n",
       "...                                                   ...     ...       ...   \n",
       "xdai    0xeed417f80cd918ce65b8e141daa00704aef98a90    1.0     1.0  1.000000   \n",
       "        0xef25b64d4bdbe23f1bb5e557b5d24f12c46da0bc    6.0     1.0  1.000000   \n",
       "        0xf902172bd2f34a6cf86d424f0440836d2d89afeb    3.0     1.0  1.000000   \n",
       "        0xfa19f292b400579794e2e3cc0d4b6559482b9d94    4.0     1.0  0.000000   \n",
       "        0xfd4a08ba1863718d92467ad05f13b352c3ae2cfd    1.0     1.0  1.000000   \n",
       "\n",
       "                                                    freq  \n",
       "network dao                                               \n",
       "mainnet 0x0b93ba560283350d4216f29dc57e15df38d0eace   2.0  \n",
       "        0x15344ecdc2c4edfcb092e284d93c20f0529fd8a6  15.0  \n",
       "        0x273d0f686a53a49a0fba2a801566b19f9aaf8fcd   8.0  \n",
       "        0x294f999356ed03347c7a23bcbcf8d33fa41dc830  32.0  \n",
       "        0x2b8c70fffda7f3d7667f7cfede1429313886329c   3.0  \n",
       "...                                                  ...  \n",
       "xdai    0xeed417f80cd918ce65b8e141daa00704aef98a90   1.0  \n",
       "        0xef25b64d4bdbe23f1bb5e557b5d24f12c46da0bc   6.0  \n",
       "        0xf902172bd2f34a6cf86d424f0440836d2d89afeb   3.0  \n",
       "        0xfa19f292b400579794e2e3cc0d4b6559482b9d94   4.0  \n",
       "        0xfd4a08ba1863718d92467ad05f13b352c3ae2cfd   1.0  \n",
       "\n",
       "[66 rows x 4 columns]"
      ]
     },
     "execution_count": 19,
     "metadata": {},
     "output_type": "execute_result"
    }
   ],
   "source": [
    "dfp.groupby(['network', 'dao'])['movilizadoPct'].describe()"
   ]
  }
 ],
 "metadata": {
  "kernelspec": {
   "display_name": "Python 3 (ipykernel)",
   "language": "python",
   "name": "python3"
  },
  "language_info": {
   "codemirror_mode": {
    "name": "ipython",
    "version": 3
   },
   "file_extension": ".py",
   "mimetype": "text/x-python",
   "name": "python",
   "nbconvert_exporter": "python",
   "pygments_lexer": "ipython3",
   "version": "3.10.10"
  },
  "papermill": {
   "default_parameters": {},
   "duration": 8.23928,
   "end_time": "2023-06-01T10:02:14.491480",
   "environment_variables": {},
   "exception": null,
   "input_path": "voting.ipynb",
   "output_path": "voting.ipynb",
   "parameters": {},
   "start_time": "2023-06-01T10:02:06.252200",
   "version": "2.4.0"
  },
  "toc-autonumbering": true
 },
 "nbformat": 4,
 "nbformat_minor": 5
}